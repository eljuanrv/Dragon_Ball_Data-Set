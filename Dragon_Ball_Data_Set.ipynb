{
  "cells": [
    {
      "cell_type": "markdown",
      "metadata": {
        "id": "view-in-github",
        "colab_type": "text"
      },
      "source": [
        "<a href=\"https://colab.research.google.com/github/eljuanrv/Dragon_Ball_Data-Set/blob/main/Dragon_Ball_Data_Set.ipynb\" target=\"_parent\"><img src=\"https://colab.research.google.com/assets/colab-badge.svg\" alt=\"Open In Colab\"/></a>"
      ]
    },
    {
      "cell_type": "markdown",
      "source": [
        "# Dragon_Ball_Data-Set\n",
        "---\n",
        "**Español**\n",
        "\n",
        "Este archivo consiste en todos los personajes de Dragon Ball, sus Niveles de Poder, la Saga o Pelicula y las Series a las que pertenecen, desde Dragon Ball a Dragon Ball Z: Battle of Gods.\n",
        "\n",
        "Puedes encontrar el Dataset original en el siguiente enlace \n",
        "[Dragon_Ball_Data-Set](https://www.kaggle.com/shiddharthsaran/dragon-ball-dataset)\n",
        "\n",
        "---\n",
        "**English**\n",
        "\n",
        "This file consists of all the Dragon Ball Characters, their Power Levels, the Saga or Movie and Series they are from, from Dragon Ball to Dragon Ball Z: Battle of Gods.\n",
        "\n",
        "You can find the original Dataset in the following link \n",
        "[Dragon_Ball_Data-Set](https://www.kaggle.com/shiddharthsaran/dragon-ball-dataset)"
      ],
      "metadata": {
        "id": "3Cx4XUuVBtkc"
      }
    },
    {
      "cell_type": "markdown",
      "source": [
        "Importamos las librerias más comunes.\n",
        "\n",
        "- Pandas: Para manipular dataframes\n",
        "- Numpy: Para manipular vectores facilmente"
      ],
      "metadata": {
        "id": "7qT6VrbnETsK"
      }
    },
    {
      "cell_type": "code",
      "execution_count": 4,
      "metadata": {
        "id": "Co_tSVjvO3vE"
      },
      "outputs": [],
      "source": [
        "import pandas as pd\n",
        "import numpy as np"
      ]
    },
    {
      "cell_type": "markdown",
      "source": [
        "Cargamos el dataframe y observamos las primeras filas"
      ],
      "metadata": {
        "id": "_d1B18NjEn4o"
      }
    },
    {
      "cell_type": "code",
      "execution_count": 5,
      "metadata": {
        "colab": {
          "base_uri": "https://localhost:8080/",
          "height": 206
        },
        "id": "ysgfElcLPBDE",
        "outputId": "8b5c8283-43d7-4c2d-a214-ede923b5c852"
      },
      "outputs": [
        {
          "output_type": "execute_result",
          "data": {
            "text/html": [
              "\n",
              "  <div id=\"df-2714c330-19b4-4e02-a058-e4b4b9a6a13a\">\n",
              "    <div class=\"colab-df-container\">\n",
              "      <div>\n",
              "<style scoped>\n",
              "    .dataframe tbody tr th:only-of-type {\n",
              "        vertical-align: middle;\n",
              "    }\n",
              "\n",
              "    .dataframe tbody tr th {\n",
              "        vertical-align: top;\n",
              "    }\n",
              "\n",
              "    .dataframe thead th {\n",
              "        text-align: right;\n",
              "    }\n",
              "</style>\n",
              "<table border=\"1\" class=\"dataframe\">\n",
              "  <thead>\n",
              "    <tr style=\"text-align: right;\">\n",
              "      <th></th>\n",
              "      <th>Character</th>\n",
              "      <th>Power_Level</th>\n",
              "      <th>Saga_or_Movie</th>\n",
              "      <th>Dragon_Ball_Series</th>\n",
              "    </tr>\n",
              "  </thead>\n",
              "  <tbody>\n",
              "    <tr>\n",
              "      <th>0</th>\n",
              "      <td>Goku</td>\n",
              "      <td>10</td>\n",
              "      <td>Emperor Pilaf Saga</td>\n",
              "      <td>Dragon Ball</td>\n",
              "    </tr>\n",
              "    <tr>\n",
              "      <th>1</th>\n",
              "      <td>Bulma</td>\n",
              "      <td>1.5</td>\n",
              "      <td>Emperor Pilaf Saga</td>\n",
              "      <td>Dragon Ball</td>\n",
              "    </tr>\n",
              "    <tr>\n",
              "      <th>2</th>\n",
              "      <td>Bear Thief</td>\n",
              "      <td>7</td>\n",
              "      <td>Emperor Pilaf Saga</td>\n",
              "      <td>Dragon Ball</td>\n",
              "    </tr>\n",
              "    <tr>\n",
              "      <th>3</th>\n",
              "      <td>Master Roshi</td>\n",
              "      <td>30</td>\n",
              "      <td>Emperor Pilaf Saga</td>\n",
              "      <td>Dragon Ball</td>\n",
              "    </tr>\n",
              "    <tr>\n",
              "      <th>4</th>\n",
              "      <td>Oolong</td>\n",
              "      <td>5</td>\n",
              "      <td>Emperor Pilaf Saga</td>\n",
              "      <td>Dragon Ball</td>\n",
              "    </tr>\n",
              "  </tbody>\n",
              "</table>\n",
              "</div>\n",
              "      <button class=\"colab-df-convert\" onclick=\"convertToInteractive('df-2714c330-19b4-4e02-a058-e4b4b9a6a13a')\"\n",
              "              title=\"Convert this dataframe to an interactive table.\"\n",
              "              style=\"display:none;\">\n",
              "        \n",
              "  <svg xmlns=\"http://www.w3.org/2000/svg\" height=\"24px\"viewBox=\"0 0 24 24\"\n",
              "       width=\"24px\">\n",
              "    <path d=\"M0 0h24v24H0V0z\" fill=\"none\"/>\n",
              "    <path d=\"M18.56 5.44l.94 2.06.94-2.06 2.06-.94-2.06-.94-.94-2.06-.94 2.06-2.06.94zm-11 1L8.5 8.5l.94-2.06 2.06-.94-2.06-.94L8.5 2.5l-.94 2.06-2.06.94zm10 10l.94 2.06.94-2.06 2.06-.94-2.06-.94-.94-2.06-.94 2.06-2.06.94z\"/><path d=\"M17.41 7.96l-1.37-1.37c-.4-.4-.92-.59-1.43-.59-.52 0-1.04.2-1.43.59L10.3 9.45l-7.72 7.72c-.78.78-.78 2.05 0 2.83L4 21.41c.39.39.9.59 1.41.59.51 0 1.02-.2 1.41-.59l7.78-7.78 2.81-2.81c.8-.78.8-2.07 0-2.86zM5.41 20L4 18.59l7.72-7.72 1.47 1.35L5.41 20z\"/>\n",
              "  </svg>\n",
              "      </button>\n",
              "      \n",
              "  <style>\n",
              "    .colab-df-container {\n",
              "      display:flex;\n",
              "      flex-wrap:wrap;\n",
              "      gap: 12px;\n",
              "    }\n",
              "\n",
              "    .colab-df-convert {\n",
              "      background-color: #E8F0FE;\n",
              "      border: none;\n",
              "      border-radius: 50%;\n",
              "      cursor: pointer;\n",
              "      display: none;\n",
              "      fill: #1967D2;\n",
              "      height: 32px;\n",
              "      padding: 0 0 0 0;\n",
              "      width: 32px;\n",
              "    }\n",
              "\n",
              "    .colab-df-convert:hover {\n",
              "      background-color: #E2EBFA;\n",
              "      box-shadow: 0px 1px 2px rgba(60, 64, 67, 0.3), 0px 1px 3px 1px rgba(60, 64, 67, 0.15);\n",
              "      fill: #174EA6;\n",
              "    }\n",
              "\n",
              "    [theme=dark] .colab-df-convert {\n",
              "      background-color: #3B4455;\n",
              "      fill: #D2E3FC;\n",
              "    }\n",
              "\n",
              "    [theme=dark] .colab-df-convert:hover {\n",
              "      background-color: #434B5C;\n",
              "      box-shadow: 0px 1px 3px 1px rgba(0, 0, 0, 0.15);\n",
              "      filter: drop-shadow(0px 1px 2px rgba(0, 0, 0, 0.3));\n",
              "      fill: #FFFFFF;\n",
              "    }\n",
              "  </style>\n",
              "\n",
              "      <script>\n",
              "        const buttonEl =\n",
              "          document.querySelector('#df-2714c330-19b4-4e02-a058-e4b4b9a6a13a button.colab-df-convert');\n",
              "        buttonEl.style.display =\n",
              "          google.colab.kernel.accessAllowed ? 'block' : 'none';\n",
              "\n",
              "        async function convertToInteractive(key) {\n",
              "          const element = document.querySelector('#df-2714c330-19b4-4e02-a058-e4b4b9a6a13a');\n",
              "          const dataTable =\n",
              "            await google.colab.kernel.invokeFunction('convertToInteractive',\n",
              "                                                     [key], {});\n",
              "          if (!dataTable) return;\n",
              "\n",
              "          const docLinkHtml = 'Like what you see? Visit the ' +\n",
              "            '<a target=\"_blank\" href=https://colab.research.google.com/notebooks/data_table.ipynb>data table notebook</a>'\n",
              "            + ' to learn more about interactive tables.';\n",
              "          element.innerHTML = '';\n",
              "          dataTable['output_type'] = 'display_data';\n",
              "          await google.colab.output.renderOutput(dataTable, element);\n",
              "          const docLink = document.createElement('div');\n",
              "          docLink.innerHTML = docLinkHtml;\n",
              "          element.appendChild(docLink);\n",
              "        }\n",
              "      </script>\n",
              "    </div>\n",
              "  </div>\n",
              "  "
            ],
            "text/plain": [
              "      Character Power_Level       Saga_or_Movie Dragon_Ball_Series\n",
              "0          Goku          10  Emperor Pilaf Saga        Dragon Ball\n",
              "1         Bulma         1.5  Emperor Pilaf Saga        Dragon Ball\n",
              "2    Bear Thief           7  Emperor Pilaf Saga        Dragon Ball\n",
              "3  Master Roshi          30  Emperor Pilaf Saga        Dragon Ball\n",
              "4        Oolong           5  Emperor Pilaf Saga        Dragon Ball"
            ]
          },
          "metadata": {},
          "execution_count": 5
        }
      ],
      "source": [
        "df=pd.read_csv('https://raw.githubusercontent.com/eljuanrv/Dragon_Ball_Data-Set/main/Dragon_Ball_Data_Set.csv')\n",
        "df.head()"
      ]
    },
    {
      "cell_type": "markdown",
      "source": [
        "Obtenemos la información del df y observamos que:\n",
        "- Tenemos 4 columnas y todas son tipo object\n",
        "- La columna **Power_Level** deberia ser numerica para poder realizar operaciones con estos datos"
      ],
      "metadata": {
        "id": "-1M1-2spE0gN"
      }
    },
    {
      "cell_type": "code",
      "execution_count": 6,
      "metadata": {
        "colab": {
          "base_uri": "https://localhost:8080/"
        },
        "id": "VSIGq-tOPJdB",
        "outputId": "8b9a1aca-402f-430a-c207-a57088f28680"
      },
      "outputs": [
        {
          "output_type": "stream",
          "name": "stdout",
          "text": [
            "<class 'pandas.core.frame.DataFrame'>\n",
            "RangeIndex: 1244 entries, 0 to 1243\n",
            "Data columns (total 4 columns):\n",
            " #   Column              Non-Null Count  Dtype \n",
            "---  ------              --------------  ----- \n",
            " 0   Character           1244 non-null   object\n",
            " 1   Power_Level         1244 non-null   object\n",
            " 2   Saga_or_Movie       1244 non-null   object\n",
            " 3   Dragon_Ball_Series  1244 non-null   object\n",
            "dtypes: object(4)\n",
            "memory usage: 39.0+ KB\n"
          ]
        }
      ],
      "source": [
        "df.info()"
      ]
    },
    {
      "cell_type": "markdown",
      "source": [
        "## Limpieza"
      ],
      "metadata": {
        "id": "Z4obDjNjK-s5"
      }
    },
    {
      "cell_type": "markdown",
      "source": [
        "Vamos a convertir la columna **Power_Level** de tipo **object** a **int**\n",
        "\n",
        "- Al ejecutar la siguiente linea de codigo podmos observar que no podemos convertir a **enteros** porque tenemos valores con **punto decimal (flotantes)**\n",
        "- Por lo tanto debemos convertirla a **flotante (float)**"
      ],
      "metadata": {
        "id": "kbLIh5tFFcLB"
      }
    },
    {
      "cell_type": "code",
      "source": [
        "df.Power_Level=df.apply(lambda fila: int(str(fila['Power_Level']).replace(',','')), axis='columns')"
      ],
      "metadata": {
        "colab": {
          "base_uri": "https://localhost:8080/",
          "height": 250
        },
        "id": "3mI7wYQ-Fn--",
        "outputId": "b7cfacf4-a10c-4f8e-f1b1-7bd1149ae8c5"
      },
      "execution_count": 7,
      "outputs": [
        {
          "output_type": "error",
          "ename": "ValueError",
          "evalue": "ignored",
          "traceback": [
            "\u001b[0;31m---------------------------------------------------------------------------\u001b[0m",
            "\u001b[0;31mValueError\u001b[0m                                Traceback (most recent call last)",
            "\u001b[0;32m<ipython-input-7-1aac6c3ffa79>\u001b[0m in \u001b[0;36m<module>\u001b[0;34m()\u001b[0m\n\u001b[0;32m----> 1\u001b[0;31m \u001b[0mdf\u001b[0m\u001b[0;34m.\u001b[0m\u001b[0mPower_Level\u001b[0m\u001b[0;34m=\u001b[0m\u001b[0mdf\u001b[0m\u001b[0;34m.\u001b[0m\u001b[0mapply\u001b[0m\u001b[0;34m(\u001b[0m\u001b[0;32mlambda\u001b[0m \u001b[0mfila\u001b[0m\u001b[0;34m:\u001b[0m \u001b[0mint\u001b[0m\u001b[0;34m(\u001b[0m\u001b[0mstr\u001b[0m\u001b[0;34m(\u001b[0m\u001b[0mfila\u001b[0m\u001b[0;34m[\u001b[0m\u001b[0;34m'Power_Level'\u001b[0m\u001b[0;34m]\u001b[0m\u001b[0;34m)\u001b[0m\u001b[0;34m.\u001b[0m\u001b[0mreplace\u001b[0m\u001b[0;34m(\u001b[0m\u001b[0;34m','\u001b[0m\u001b[0;34m,\u001b[0m\u001b[0;34m''\u001b[0m\u001b[0;34m)\u001b[0m\u001b[0;34m)\u001b[0m\u001b[0;34m,\u001b[0m \u001b[0maxis\u001b[0m\u001b[0;34m=\u001b[0m\u001b[0;34m'columns'\u001b[0m\u001b[0;34m)\u001b[0m\u001b[0;34m\u001b[0m\u001b[0;34m\u001b[0m\u001b[0m\n\u001b[0m",
            "\u001b[0;32m/usr/local/lib/python3.7/dist-packages/pandas/core/frame.py\u001b[0m in \u001b[0;36mapply\u001b[0;34m(self, func, axis, raw, result_type, args, **kwds)\u001b[0m\n\u001b[1;32m   7550\u001b[0m             \u001b[0mkwds\u001b[0m\u001b[0;34m=\u001b[0m\u001b[0mkwds\u001b[0m\u001b[0;34m,\u001b[0m\u001b[0;34m\u001b[0m\u001b[0;34m\u001b[0m\u001b[0m\n\u001b[1;32m   7551\u001b[0m         )\n\u001b[0;32m-> 7552\u001b[0;31m         \u001b[0;32mreturn\u001b[0m \u001b[0mop\u001b[0m\u001b[0;34m.\u001b[0m\u001b[0mget_result\u001b[0m\u001b[0;34m(\u001b[0m\u001b[0;34m)\u001b[0m\u001b[0;34m\u001b[0m\u001b[0;34m\u001b[0m\u001b[0m\n\u001b[0m\u001b[1;32m   7553\u001b[0m \u001b[0;34m\u001b[0m\u001b[0m\n\u001b[1;32m   7554\u001b[0m     \u001b[0;32mdef\u001b[0m \u001b[0mapplymap\u001b[0m\u001b[0;34m(\u001b[0m\u001b[0mself\u001b[0m\u001b[0;34m,\u001b[0m \u001b[0mfunc\u001b[0m\u001b[0;34m)\u001b[0m \u001b[0;34m->\u001b[0m \u001b[0;34m\"DataFrame\"\u001b[0m\u001b[0;34m:\u001b[0m\u001b[0;34m\u001b[0m\u001b[0;34m\u001b[0m\u001b[0m\n",
            "\u001b[0;32m/usr/local/lib/python3.7/dist-packages/pandas/core/apply.py\u001b[0m in \u001b[0;36mget_result\u001b[0;34m(self)\u001b[0m\n\u001b[1;32m    183\u001b[0m             \u001b[0;32mreturn\u001b[0m \u001b[0mself\u001b[0m\u001b[0;34m.\u001b[0m\u001b[0mapply_raw\u001b[0m\u001b[0;34m(\u001b[0m\u001b[0;34m)\u001b[0m\u001b[0;34m\u001b[0m\u001b[0;34m\u001b[0m\u001b[0m\n\u001b[1;32m    184\u001b[0m \u001b[0;34m\u001b[0m\u001b[0m\n\u001b[0;32m--> 185\u001b[0;31m         \u001b[0;32mreturn\u001b[0m \u001b[0mself\u001b[0m\u001b[0;34m.\u001b[0m\u001b[0mapply_standard\u001b[0m\u001b[0;34m(\u001b[0m\u001b[0;34m)\u001b[0m\u001b[0;34m\u001b[0m\u001b[0;34m\u001b[0m\u001b[0m\n\u001b[0m\u001b[1;32m    186\u001b[0m \u001b[0;34m\u001b[0m\u001b[0m\n\u001b[1;32m    187\u001b[0m     \u001b[0;32mdef\u001b[0m \u001b[0mapply_empty_result\u001b[0m\u001b[0;34m(\u001b[0m\u001b[0mself\u001b[0m\u001b[0;34m)\u001b[0m\u001b[0;34m:\u001b[0m\u001b[0;34m\u001b[0m\u001b[0;34m\u001b[0m\u001b[0m\n",
            "\u001b[0;32m/usr/local/lib/python3.7/dist-packages/pandas/core/apply.py\u001b[0m in \u001b[0;36mapply_standard\u001b[0;34m(self)\u001b[0m\n\u001b[1;32m    274\u001b[0m \u001b[0;34m\u001b[0m\u001b[0m\n\u001b[1;32m    275\u001b[0m     \u001b[0;32mdef\u001b[0m \u001b[0mapply_standard\u001b[0m\u001b[0;34m(\u001b[0m\u001b[0mself\u001b[0m\u001b[0;34m)\u001b[0m\u001b[0;34m:\u001b[0m\u001b[0;34m\u001b[0m\u001b[0;34m\u001b[0m\u001b[0m\n\u001b[0;32m--> 276\u001b[0;31m         \u001b[0mresults\u001b[0m\u001b[0;34m,\u001b[0m \u001b[0mres_index\u001b[0m \u001b[0;34m=\u001b[0m \u001b[0mself\u001b[0m\u001b[0;34m.\u001b[0m\u001b[0mapply_series_generator\u001b[0m\u001b[0;34m(\u001b[0m\u001b[0;34m)\u001b[0m\u001b[0;34m\u001b[0m\u001b[0;34m\u001b[0m\u001b[0m\n\u001b[0m\u001b[1;32m    277\u001b[0m \u001b[0;34m\u001b[0m\u001b[0m\n\u001b[1;32m    278\u001b[0m         \u001b[0;31m# wrap results\u001b[0m\u001b[0;34m\u001b[0m\u001b[0;34m\u001b[0m\u001b[0;34m\u001b[0m\u001b[0m\n",
            "\u001b[0;32m/usr/local/lib/python3.7/dist-packages/pandas/core/apply.py\u001b[0m in \u001b[0;36mapply_series_generator\u001b[0;34m(self)\u001b[0m\n\u001b[1;32m    303\u001b[0m                 \u001b[0;32mfor\u001b[0m \u001b[0mi\u001b[0m\u001b[0;34m,\u001b[0m \u001b[0mv\u001b[0m \u001b[0;32min\u001b[0m \u001b[0menumerate\u001b[0m\u001b[0;34m(\u001b[0m\u001b[0mseries_gen\u001b[0m\u001b[0;34m)\u001b[0m\u001b[0;34m:\u001b[0m\u001b[0;34m\u001b[0m\u001b[0;34m\u001b[0m\u001b[0m\n\u001b[1;32m    304\u001b[0m                     \u001b[0;31m# ignore SettingWithCopy here in case the user mutates\u001b[0m\u001b[0;34m\u001b[0m\u001b[0;34m\u001b[0m\u001b[0;34m\u001b[0m\u001b[0m\n\u001b[0;32m--> 305\u001b[0;31m                     \u001b[0mresults\u001b[0m\u001b[0;34m[\u001b[0m\u001b[0mi\u001b[0m\u001b[0;34m]\u001b[0m \u001b[0;34m=\u001b[0m \u001b[0mself\u001b[0m\u001b[0;34m.\u001b[0m\u001b[0mf\u001b[0m\u001b[0;34m(\u001b[0m\u001b[0mv\u001b[0m\u001b[0;34m)\u001b[0m\u001b[0;34m\u001b[0m\u001b[0;34m\u001b[0m\u001b[0m\n\u001b[0m\u001b[1;32m    306\u001b[0m                     \u001b[0;32mif\u001b[0m \u001b[0misinstance\u001b[0m\u001b[0;34m(\u001b[0m\u001b[0mresults\u001b[0m\u001b[0;34m[\u001b[0m\u001b[0mi\u001b[0m\u001b[0;34m]\u001b[0m\u001b[0;34m,\u001b[0m \u001b[0mABCSeries\u001b[0m\u001b[0;34m)\u001b[0m\u001b[0;34m:\u001b[0m\u001b[0;34m\u001b[0m\u001b[0;34m\u001b[0m\u001b[0m\n\u001b[1;32m    307\u001b[0m                         \u001b[0;31m# If we have a view on v, we need to make a copy because\u001b[0m\u001b[0;34m\u001b[0m\u001b[0;34m\u001b[0m\u001b[0;34m\u001b[0m\u001b[0m\n",
            "\u001b[0;32m<ipython-input-7-1aac6c3ffa79>\u001b[0m in \u001b[0;36m<lambda>\u001b[0;34m(fila)\u001b[0m\n\u001b[0;32m----> 1\u001b[0;31m \u001b[0mdf\u001b[0m\u001b[0;34m.\u001b[0m\u001b[0mPower_Level\u001b[0m\u001b[0;34m=\u001b[0m\u001b[0mdf\u001b[0m\u001b[0;34m.\u001b[0m\u001b[0mapply\u001b[0m\u001b[0;34m(\u001b[0m\u001b[0;32mlambda\u001b[0m \u001b[0mfila\u001b[0m\u001b[0;34m:\u001b[0m \u001b[0mint\u001b[0m\u001b[0;34m(\u001b[0m\u001b[0mstr\u001b[0m\u001b[0;34m(\u001b[0m\u001b[0mfila\u001b[0m\u001b[0;34m[\u001b[0m\u001b[0;34m'Power_Level'\u001b[0m\u001b[0;34m]\u001b[0m\u001b[0;34m)\u001b[0m\u001b[0;34m.\u001b[0m\u001b[0mreplace\u001b[0m\u001b[0;34m(\u001b[0m\u001b[0;34m','\u001b[0m\u001b[0;34m,\u001b[0m\u001b[0;34m''\u001b[0m\u001b[0;34m)\u001b[0m\u001b[0;34m)\u001b[0m\u001b[0;34m,\u001b[0m \u001b[0maxis\u001b[0m\u001b[0;34m=\u001b[0m\u001b[0;34m'columns'\u001b[0m\u001b[0;34m)\u001b[0m\u001b[0;34m\u001b[0m\u001b[0;34m\u001b[0m\u001b[0m\n\u001b[0m",
            "\u001b[0;31mValueError\u001b[0m: invalid literal for int() with base 10: '1.5'"
          ]
        }
      ]
    },
    {
      "cell_type": "markdown",
      "source": [
        "Nuevamente tenemos un error pero esta vez es porque tenemos un registro que contiene una cadena de caracteres o **string** por lo tanto debemos encontrar este registro y modificarlo o eliminarlo"
      ],
      "metadata": {
        "id": "_zRJWRboGZL4"
      }
    },
    {
      "cell_type": "code",
      "source": [
        "df.Power_Level=df.apply(lambda fila: float(str(fila['Power_Level']).replace(',','')), axis='columns')"
      ],
      "metadata": {
        "id": "8_-byAgkGUDl"
      },
      "execution_count": null,
      "outputs": []
    },
    {
      "cell_type": "markdown",
      "source": [
        "Podemos observar que el registro corresponde al Androide numero 18 y al parecer su poder fue suprimido o reprimido luchando contra Trunks\n",
        "- Podriamos simplemente cambiar el valor por 0 pero la mejor opcion en este caso es eliminar el registro"
      ],
      "metadata": {
        "id": "Euv9qBlTIOiU"
      }
    },
    {
      "cell_type": "code",
      "source": [
        "df.loc[df.Power_Level == '(supressed, figting Trunks)']"
      ],
      "metadata": {
        "id": "il_VPVygG2CQ"
      },
      "execution_count": null,
      "outputs": []
    },
    {
      "cell_type": "markdown",
      "source": [
        "Eliminamos el registro utilizando el indice de la fila con el metodo drop()"
      ],
      "metadata": {
        "id": "ZOmSej1FF0Lg"
      }
    },
    {
      "cell_type": "code",
      "source": [
        "df=df.drop(1125)"
      ],
      "metadata": {
        "id": "D9rHzsWAJRjk"
      },
      "execution_count": 8,
      "outputs": []
    },
    {
      "cell_type": "markdown",
      "source": [
        "Nuevamente utilizamos la funcion para convertir la columna a nuemeros flotantes"
      ],
      "metadata": {
        "id": "wmtlS8IkKbFD"
      }
    },
    {
      "cell_type": "code",
      "source": [
        "df.Power_Level=df.apply(lambda fila: float(str(fila['Power_Level']).replace(',','')), axis='columns')"
      ],
      "metadata": {
        "id": "v1291IUiVIjM"
      },
      "execution_count": 9,
      "outputs": []
    },
    {
      "cell_type": "code",
      "source": [
        "Nuevamente utilizando el metodo .info() podemos observar que la transformación se realizó correctamente"
      ],
      "metadata": {
        "id": "dtS7xeRLKuZ6"
      },
      "execution_count": null,
      "outputs": []
    },
    {
      "cell_type": "code",
      "source": [
        "df.info()"
      ],
      "metadata": {
        "colab": {
          "base_uri": "https://localhost:8080/"
        },
        "id": "vFWyK6cuU-nP",
        "outputId": "31fb46d0-dd61-427b-9a97-6851d5581f7d"
      },
      "execution_count": 10,
      "outputs": [
        {
          "output_type": "stream",
          "name": "stdout",
          "text": [
            "<class 'pandas.core.frame.DataFrame'>\n",
            "Int64Index: 1243 entries, 0 to 1243\n",
            "Data columns (total 4 columns):\n",
            " #   Column              Non-Null Count  Dtype  \n",
            "---  ------              --------------  -----  \n",
            " 0   Character           1243 non-null   object \n",
            " 1   Power_Level         1243 non-null   float64\n",
            " 2   Saga_or_Movie       1243 non-null   object \n",
            " 3   Dragon_Ball_Series  1243 non-null   object \n",
            "dtypes: float64(1), object(3)\n",
            "memory usage: 48.6+ KB\n"
          ]
        }
      ]
    },
    {
      "cell_type": "markdown",
      "source": [
        "GROUPBY\n",
        "\n",
        "Agrupamos por serie y despues por saga para obtener el nivel promedio de cada una"
      ],
      "metadata": {
        "id": "ygjo2q_JcX-f"
      }
    },
    {
      "cell_type": "code",
      "source": [
        "import numpy as np"
      ],
      "metadata": {
        "id": "vsGMDItjgDs9"
      },
      "execution_count": 11,
      "outputs": []
    },
    {
      "cell_type": "code",
      "source": [
        "df.groupby(['Dragon_Ball_Series', 'Saga_or_Movie'])['Power_Level'].agg([np.mean,np.median])"
      ],
      "metadata": {
        "colab": {
          "base_uri": "https://localhost:8080/",
          "height": 1000
        },
        "id": "afLCyaE0cZ0B",
        "outputId": "973a4ab3-fc5e-4631-8809-633ad3fa616d"
      },
      "execution_count": 12,
      "outputs": [
        {
          "output_type": "execute_result",
          "data": {
            "text/html": [
              "\n",
              "  <div id=\"df-883f9764-dbcd-4c86-aab5-b0d0b991fc8b\">\n",
              "    <div class=\"colab-df-container\">\n",
              "      <div>\n",
              "<style scoped>\n",
              "    .dataframe tbody tr th:only-of-type {\n",
              "        vertical-align: middle;\n",
              "    }\n",
              "\n",
              "    .dataframe tbody tr th {\n",
              "        vertical-align: top;\n",
              "    }\n",
              "\n",
              "    .dataframe thead th {\n",
              "        text-align: right;\n",
              "    }\n",
              "</style>\n",
              "<table border=\"1\" class=\"dataframe\">\n",
              "  <thead>\n",
              "    <tr style=\"text-align: right;\">\n",
              "      <th></th>\n",
              "      <th></th>\n",
              "      <th>mean</th>\n",
              "      <th>median</th>\n",
              "    </tr>\n",
              "    <tr>\n",
              "      <th>Dragon_Ball_Series</th>\n",
              "      <th>Saga_or_Movie</th>\n",
              "      <th></th>\n",
              "      <th></th>\n",
              "    </tr>\n",
              "  </thead>\n",
              "  <tbody>\n",
              "    <tr>\n",
              "      <th rowspan=\"7\" valign=\"top\">Dragon Ball</th>\n",
              "      <th>Emperor Pilaf Saga</th>\n",
              "      <td>3.550000e+01</td>\n",
              "      <td>9.250000e+00</td>\n",
              "    </tr>\n",
              "    <tr>\n",
              "      <th>Fortune Teller Baba Saga</th>\n",
              "      <td>6.875000e+01</td>\n",
              "      <td>7.150000e+01</td>\n",
              "    </tr>\n",
              "    <tr>\n",
              "      <th>King Piccolo Saga</th>\n",
              "      <td>2.212800e+02</td>\n",
              "      <td>1.800000e+02</td>\n",
              "    </tr>\n",
              "    <tr>\n",
              "      <th>Piccolo Jr. Saga</th>\n",
              "      <td>2.408571e+02</td>\n",
              "      <td>2.025000e+02</td>\n",
              "    </tr>\n",
              "    <tr>\n",
              "      <th>Red Ribbon Army Saga</th>\n",
              "      <td>6.319048e+01</td>\n",
              "      <td>5.500000e+01</td>\n",
              "    </tr>\n",
              "    <tr>\n",
              "      <th>Tien Shinhan Saga</th>\n",
              "      <td>1.937143e+02</td>\n",
              "      <td>1.390000e+02</td>\n",
              "    </tr>\n",
              "    <tr>\n",
              "      <th>Tournament Saga</th>\n",
              "      <td>8.268421e+01</td>\n",
              "      <td>2.800000e+01</td>\n",
              "    </tr>\n",
              "    <tr>\n",
              "      <th rowspan=\"4\" valign=\"top\">Dragon Ball GT</th>\n",
              "      <th>Baby Saga</th>\n",
              "      <td>7.882298e+13</td>\n",
              "      <td>5.000000e+11</td>\n",
              "    </tr>\n",
              "    <tr>\n",
              "      <th>Black-Star Dragon Ball Saga</th>\n",
              "      <td>1.277656e+11</td>\n",
              "      <td>2.400000e+07</td>\n",
              "    </tr>\n",
              "    <tr>\n",
              "      <th>Shadow Dragon Saga</th>\n",
              "      <td>1.648906e+16</td>\n",
              "      <td>4.000000e+11</td>\n",
              "    </tr>\n",
              "    <tr>\n",
              "      <th>Super 17 saga</th>\n",
              "      <td>3.685988e+14</td>\n",
              "      <td>4.750000e+10</td>\n",
              "    </tr>\n",
              "    <tr>\n",
              "      <th rowspan=\"35\" valign=\"top\">Dragon Ball Z</th>\n",
              "      <th>Android Saga</th>\n",
              "      <td>6.055369e+08</td>\n",
              "      <td>2.100000e+08</td>\n",
              "    </tr>\n",
              "    <tr>\n",
              "      <th>Babidi Saga/Majin Buu Saga</th>\n",
              "      <td>1.638089e+11</td>\n",
              "      <td>3.325000e+10</td>\n",
              "    </tr>\n",
              "    <tr>\n",
              "      <th>Captain Ginyu Saga</th>\n",
              "      <td>8.508571e+04</td>\n",
              "      <td>6.350000e+04</td>\n",
              "    </tr>\n",
              "    <tr>\n",
              "      <th>Cell Games Saga</th>\n",
              "      <td>2.228820e+10</td>\n",
              "      <td>1.225000e+10</td>\n",
              "    </tr>\n",
              "    <tr>\n",
              "      <th>Dragon Ball GT: A Hero's Legacy</th>\n",
              "      <td>7.693853e+09</td>\n",
              "      <td>1.500000e+01</td>\n",
              "    </tr>\n",
              "    <tr>\n",
              "      <th>Dragon Ball Z: Bardock-Father of Goku</th>\n",
              "      <td>7.160385e+04</td>\n",
              "      <td>1.100000e+04</td>\n",
              "    </tr>\n",
              "    <tr>\n",
              "      <th>Dragon Ball Z: History of Trunks</th>\n",
              "      <td>1.448318e+09</td>\n",
              "      <td>6.000000e+06</td>\n",
              "    </tr>\n",
              "    <tr>\n",
              "      <th>Dragon Ball: Episode of Bardock</th>\n",
              "      <td>1.910571e+06</td>\n",
              "      <td>2.900000e+05</td>\n",
              "    </tr>\n",
              "    <tr>\n",
              "      <th>Dragon Ball: Yo! Son Goku and His Friends Return</th>\n",
              "      <td>3.823618e+10</td>\n",
              "      <td>3.960000e+07</td>\n",
              "    </tr>\n",
              "    <tr>\n",
              "      <th>Frieza Saga</th>\n",
              "      <td>2.063870e+07</td>\n",
              "      <td>1.500000e+06</td>\n",
              "    </tr>\n",
              "    <tr>\n",
              "      <th>Fusion Saga</th>\n",
              "      <td>1.100343e+12</td>\n",
              "      <td>5.000000e+10</td>\n",
              "    </tr>\n",
              "    <tr>\n",
              "      <th>Ginyu Force Saga</th>\n",
              "      <td>3.200000e+04</td>\n",
              "      <td>2.650000e+04</td>\n",
              "    </tr>\n",
              "    <tr>\n",
              "      <th>Goku And Gohan in The Hyperbolic Time Chamber</th>\n",
              "      <td>5.824750e+09</td>\n",
              "      <td>4.250000e+08</td>\n",
              "    </tr>\n",
              "    <tr>\n",
              "      <th>Great Saiyaman Saga/World Tournament Saga</th>\n",
              "      <td>1.242561e+10</td>\n",
              "      <td>3.600000e+08</td>\n",
              "    </tr>\n",
              "    <tr>\n",
              "      <th>Imperfect Cell Saga</th>\n",
              "      <td>9.242938e+08</td>\n",
              "      <td>7.600000e+08</td>\n",
              "    </tr>\n",
              "    <tr>\n",
              "      <th>Kid Buu Saga</th>\n",
              "      <td>8.184071e+11</td>\n",
              "      <td>1.291250e+11</td>\n",
              "    </tr>\n",
              "    <tr>\n",
              "      <th>Movie 10: Broly- The Second Coming</th>\n",
              "      <td>4.554193e+10</td>\n",
              "      <td>1.650000e+09</td>\n",
              "    </tr>\n",
              "    <tr>\n",
              "      <th>Movie 11: Bio-Broly</th>\n",
              "      <td>1.369138e+09</td>\n",
              "      <td>5.000000e+08</td>\n",
              "    </tr>\n",
              "    <tr>\n",
              "      <th>Movie 12: Fusion Reborn</th>\n",
              "      <td>2.013147e+12</td>\n",
              "      <td>2.200000e+09</td>\n",
              "    </tr>\n",
              "    <tr>\n",
              "      <th>Movie 13: Wrath of the Dragon</th>\n",
              "      <td>6.092966e+11</td>\n",
              "      <td>2.800000e+09</td>\n",
              "    </tr>\n",
              "    <tr>\n",
              "      <th>Movie 14: Battle of Gods</th>\n",
              "      <td>1.654437e+14</td>\n",
              "      <td>2.600000e+11</td>\n",
              "    </tr>\n",
              "    <tr>\n",
              "      <th>Movie 1: Dead Zone</th>\n",
              "      <td>3.403333e+02</td>\n",
              "      <td>2.825000e+02</td>\n",
              "    </tr>\n",
              "    <tr>\n",
              "      <th>Movie 2: World's Strongest</th>\n",
              "      <td>3.837229e+04</td>\n",
              "      <td>8.300000e+03</td>\n",
              "    </tr>\n",
              "    <tr>\n",
              "      <th>Movie 3: The Tree of Might</th>\n",
              "      <td>3.567632e+07</td>\n",
              "      <td>1.000000e+05</td>\n",
              "    </tr>\n",
              "    <tr>\n",
              "      <th>Movie 4: Lord Slug</th>\n",
              "      <td>3.364874e+08</td>\n",
              "      <td>1.350000e+06</td>\n",
              "    </tr>\n",
              "    <tr>\n",
              "      <th>Movie 5: Cooler's Revenge</th>\n",
              "      <td>1.460350e+08</td>\n",
              "      <td>1.200000e+07</td>\n",
              "    </tr>\n",
              "    <tr>\n",
              "      <th>Movie 6: The Return of Cooler</th>\n",
              "      <td>3.895337e+09</td>\n",
              "      <td>4.000000e+08</td>\n",
              "    </tr>\n",
              "    <tr>\n",
              "      <th>Movie 7: Super Android 13</th>\n",
              "      <td>6.490306e+08</td>\n",
              "      <td>5.750000e+08</td>\n",
              "    </tr>\n",
              "    <tr>\n",
              "      <th>Movie 8: Broly - The Legendary Super Saiyan</th>\n",
              "      <td>9.416739e+09</td>\n",
              "      <td>3.450000e+08</td>\n",
              "    </tr>\n",
              "    <tr>\n",
              "      <th>Movie 9: Bojack Unbound</th>\n",
              "      <td>5.807737e+09</td>\n",
              "      <td>8.550000e+08</td>\n",
              "    </tr>\n",
              "    <tr>\n",
              "      <th>Namek Saga</th>\n",
              "      <td>2.413928e+04</td>\n",
              "      <td>1.350000e+04</td>\n",
              "    </tr>\n",
              "    <tr>\n",
              "      <th>OVA: Plan to Eradicate the Super Saiyans</th>\n",
              "      <td>9.360884e+09</td>\n",
              "      <td>4.000000e+08</td>\n",
              "    </tr>\n",
              "    <tr>\n",
              "      <th>Perfect Cell Saga</th>\n",
              "      <td>1.032605e+10</td>\n",
              "      <td>3.273750e+09</td>\n",
              "    </tr>\n",
              "    <tr>\n",
              "      <th>Saiyan Saga</th>\n",
              "      <td>1.374176e+04</td>\n",
              "      <td>1.410000e+03</td>\n",
              "    </tr>\n",
              "    <tr>\n",
              "      <th>Trunks Saga</th>\n",
              "      <td>5.709428e+08</td>\n",
              "      <td>6.000000e+06</td>\n",
              "    </tr>\n",
              "  </tbody>\n",
              "</table>\n",
              "</div>\n",
              "      <button class=\"colab-df-convert\" onclick=\"convertToInteractive('df-883f9764-dbcd-4c86-aab5-b0d0b991fc8b')\"\n",
              "              title=\"Convert this dataframe to an interactive table.\"\n",
              "              style=\"display:none;\">\n",
              "        \n",
              "  <svg xmlns=\"http://www.w3.org/2000/svg\" height=\"24px\"viewBox=\"0 0 24 24\"\n",
              "       width=\"24px\">\n",
              "    <path d=\"M0 0h24v24H0V0z\" fill=\"none\"/>\n",
              "    <path d=\"M18.56 5.44l.94 2.06.94-2.06 2.06-.94-2.06-.94-.94-2.06-.94 2.06-2.06.94zm-11 1L8.5 8.5l.94-2.06 2.06-.94-2.06-.94L8.5 2.5l-.94 2.06-2.06.94zm10 10l.94 2.06.94-2.06 2.06-.94-2.06-.94-.94-2.06-.94 2.06-2.06.94z\"/><path d=\"M17.41 7.96l-1.37-1.37c-.4-.4-.92-.59-1.43-.59-.52 0-1.04.2-1.43.59L10.3 9.45l-7.72 7.72c-.78.78-.78 2.05 0 2.83L4 21.41c.39.39.9.59 1.41.59.51 0 1.02-.2 1.41-.59l7.78-7.78 2.81-2.81c.8-.78.8-2.07 0-2.86zM5.41 20L4 18.59l7.72-7.72 1.47 1.35L5.41 20z\"/>\n",
              "  </svg>\n",
              "      </button>\n",
              "      \n",
              "  <style>\n",
              "    .colab-df-container {\n",
              "      display:flex;\n",
              "      flex-wrap:wrap;\n",
              "      gap: 12px;\n",
              "    }\n",
              "\n",
              "    .colab-df-convert {\n",
              "      background-color: #E8F0FE;\n",
              "      border: none;\n",
              "      border-radius: 50%;\n",
              "      cursor: pointer;\n",
              "      display: none;\n",
              "      fill: #1967D2;\n",
              "      height: 32px;\n",
              "      padding: 0 0 0 0;\n",
              "      width: 32px;\n",
              "    }\n",
              "\n",
              "    .colab-df-convert:hover {\n",
              "      background-color: #E2EBFA;\n",
              "      box-shadow: 0px 1px 2px rgba(60, 64, 67, 0.3), 0px 1px 3px 1px rgba(60, 64, 67, 0.15);\n",
              "      fill: #174EA6;\n",
              "    }\n",
              "\n",
              "    [theme=dark] .colab-df-convert {\n",
              "      background-color: #3B4455;\n",
              "      fill: #D2E3FC;\n",
              "    }\n",
              "\n",
              "    [theme=dark] .colab-df-convert:hover {\n",
              "      background-color: #434B5C;\n",
              "      box-shadow: 0px 1px 3px 1px rgba(0, 0, 0, 0.15);\n",
              "      filter: drop-shadow(0px 1px 2px rgba(0, 0, 0, 0.3));\n",
              "      fill: #FFFFFF;\n",
              "    }\n",
              "  </style>\n",
              "\n",
              "      <script>\n",
              "        const buttonEl =\n",
              "          document.querySelector('#df-883f9764-dbcd-4c86-aab5-b0d0b991fc8b button.colab-df-convert');\n",
              "        buttonEl.style.display =\n",
              "          google.colab.kernel.accessAllowed ? 'block' : 'none';\n",
              "\n",
              "        async function convertToInteractive(key) {\n",
              "          const element = document.querySelector('#df-883f9764-dbcd-4c86-aab5-b0d0b991fc8b');\n",
              "          const dataTable =\n",
              "            await google.colab.kernel.invokeFunction('convertToInteractive',\n",
              "                                                     [key], {});\n",
              "          if (!dataTable) return;\n",
              "\n",
              "          const docLinkHtml = 'Like what you see? Visit the ' +\n",
              "            '<a target=\"_blank\" href=https://colab.research.google.com/notebooks/data_table.ipynb>data table notebook</a>'\n",
              "            + ' to learn more about interactive tables.';\n",
              "          element.innerHTML = '';\n",
              "          dataTable['output_type'] = 'display_data';\n",
              "          await google.colab.output.renderOutput(dataTable, element);\n",
              "          const docLink = document.createElement('div');\n",
              "          docLink.innerHTML = docLinkHtml;\n",
              "          element.appendChild(docLink);\n",
              "        }\n",
              "      </script>\n",
              "    </div>\n",
              "  </div>\n",
              "  "
            ],
            "text/plain": [
              "                                                                              mean        median\n",
              "Dragon_Ball_Series Saga_or_Movie                                                                \n",
              "Dragon Ball        Emperor Pilaf Saga                                 3.550000e+01  9.250000e+00\n",
              "                   Fortune Teller Baba Saga                           6.875000e+01  7.150000e+01\n",
              "                   King Piccolo Saga                                  2.212800e+02  1.800000e+02\n",
              "                   Piccolo Jr. Saga                                   2.408571e+02  2.025000e+02\n",
              "                   Red Ribbon Army Saga                               6.319048e+01  5.500000e+01\n",
              "                   Tien Shinhan Saga                                  1.937143e+02  1.390000e+02\n",
              "                   Tournament Saga                                    8.268421e+01  2.800000e+01\n",
              "Dragon Ball GT     Baby Saga                                          7.882298e+13  5.000000e+11\n",
              "                   Black-Star Dragon Ball Saga                        1.277656e+11  2.400000e+07\n",
              "                   Shadow Dragon Saga                                 1.648906e+16  4.000000e+11\n",
              "                   Super 17 saga                                      3.685988e+14  4.750000e+10\n",
              "Dragon Ball Z      Android Saga                                       6.055369e+08  2.100000e+08\n",
              "                   Babidi Saga/Majin Buu Saga                         1.638089e+11  3.325000e+10\n",
              "                   Captain Ginyu Saga                                 8.508571e+04  6.350000e+04\n",
              "                   Cell Games Saga                                    2.228820e+10  1.225000e+10\n",
              "                   Dragon Ball GT: A Hero's Legacy                    7.693853e+09  1.500000e+01\n",
              "                   Dragon Ball Z: Bardock-Father of Goku              7.160385e+04  1.100000e+04\n",
              "                   Dragon Ball Z: History of Trunks                   1.448318e+09  6.000000e+06\n",
              "                   Dragon Ball: Episode of Bardock                    1.910571e+06  2.900000e+05\n",
              "                   Dragon Ball: Yo! Son Goku and His Friends Return   3.823618e+10  3.960000e+07\n",
              "                   Frieza Saga                                        2.063870e+07  1.500000e+06\n",
              "                   Fusion Saga                                        1.100343e+12  5.000000e+10\n",
              "                   Ginyu Force Saga                                   3.200000e+04  2.650000e+04\n",
              "                   Goku And Gohan in The Hyperbolic Time Chamber      5.824750e+09  4.250000e+08\n",
              "                   Great Saiyaman Saga/World Tournament Saga          1.242561e+10  3.600000e+08\n",
              "                   Imperfect Cell Saga                                9.242938e+08  7.600000e+08\n",
              "                   Kid Buu Saga                                       8.184071e+11  1.291250e+11\n",
              "                   Movie 10: Broly- The Second Coming                 4.554193e+10  1.650000e+09\n",
              "                   Movie 11: Bio-Broly                                1.369138e+09  5.000000e+08\n",
              "                   Movie 12: Fusion Reborn                            2.013147e+12  2.200000e+09\n",
              "                   Movie 13: Wrath of the Dragon                      6.092966e+11  2.800000e+09\n",
              "                   Movie 14: Battle of Gods                           1.654437e+14  2.600000e+11\n",
              "                   Movie 1: Dead Zone                                 3.403333e+02  2.825000e+02\n",
              "                   Movie 2: World's Strongest                         3.837229e+04  8.300000e+03\n",
              "                   Movie 3: The Tree of Might                         3.567632e+07  1.000000e+05\n",
              "                   Movie 4: Lord Slug                                 3.364874e+08  1.350000e+06\n",
              "                   Movie 5: Cooler's Revenge                          1.460350e+08  1.200000e+07\n",
              "                   Movie 6: The Return of Cooler                      3.895337e+09  4.000000e+08\n",
              "                   Movie 7: Super Android 13                          6.490306e+08  5.750000e+08\n",
              "                   Movie 8: Broly - The Legendary Super Saiyan        9.416739e+09  3.450000e+08\n",
              "                   Movie 9: Bojack Unbound                            5.807737e+09  8.550000e+08\n",
              "                   Namek Saga                                         2.413928e+04  1.350000e+04\n",
              "                   OVA: Plan to Eradicate the Super Saiyans           9.360884e+09  4.000000e+08\n",
              "                   Perfect Cell Saga                                  1.032605e+10  3.273750e+09\n",
              "                   Saiyan Saga                                        1.374176e+04  1.410000e+03\n",
              "                   Trunks Saga                                        5.709428e+08  6.000000e+06"
            ]
          },
          "metadata": {},
          "execution_count": 12
        }
      ]
    },
    {
      "cell_type": "code",
      "source": [
        "df.pivot_table(values='Power_Level',columns='Dragon_Ball_Series',index='Saga_or_Movie',aggfunc=[np.mean,np.median],fill_value=0,margins=True)"
      ],
      "metadata": {
        "colab": {
          "base_uri": "https://localhost:8080/",
          "height": 1000
        },
        "id": "sbod02o6hs85",
        "outputId": "b188265a-689b-4cfa-b3f2-f2ceaf8f3f2a"
      },
      "execution_count": 13,
      "outputs": [
        {
          "output_type": "execute_result",
          "data": {
            "text/html": [
              "\n",
              "  <div id=\"df-3ebc33d1-9921-4690-9154-f4b800897493\">\n",
              "    <div class=\"colab-df-container\">\n",
              "      <div>\n",
              "<style scoped>\n",
              "    .dataframe tbody tr th:only-of-type {\n",
              "        vertical-align: middle;\n",
              "    }\n",
              "\n",
              "    .dataframe tbody tr th {\n",
              "        vertical-align: top;\n",
              "    }\n",
              "\n",
              "    .dataframe thead tr th {\n",
              "        text-align: left;\n",
              "    }\n",
              "\n",
              "    .dataframe thead tr:last-of-type th {\n",
              "        text-align: right;\n",
              "    }\n",
              "</style>\n",
              "<table border=\"1\" class=\"dataframe\">\n",
              "  <thead>\n",
              "    <tr>\n",
              "      <th></th>\n",
              "      <th colspan=\"4\" halign=\"left\">mean</th>\n",
              "      <th colspan=\"4\" halign=\"left\">median</th>\n",
              "    </tr>\n",
              "    <tr>\n",
              "      <th>Dragon_Ball_Series</th>\n",
              "      <th>Dragon Ball</th>\n",
              "      <th>Dragon Ball GT</th>\n",
              "      <th>Dragon Ball Z</th>\n",
              "      <th>All</th>\n",
              "      <th>Dragon Ball</th>\n",
              "      <th>Dragon Ball GT</th>\n",
              "      <th>Dragon Ball Z</th>\n",
              "      <th>All</th>\n",
              "    </tr>\n",
              "    <tr>\n",
              "      <th>Saga_or_Movie</th>\n",
              "      <th></th>\n",
              "      <th></th>\n",
              "      <th></th>\n",
              "      <th></th>\n",
              "      <th></th>\n",
              "      <th></th>\n",
              "      <th></th>\n",
              "      <th></th>\n",
              "    </tr>\n",
              "  </thead>\n",
              "  <tbody>\n",
              "    <tr>\n",
              "      <th>Android Saga</th>\n",
              "      <td>0.000000</td>\n",
              "      <td>0.000000e+00</td>\n",
              "      <td>6.055369e+08</td>\n",
              "      <td>6.055369e+08</td>\n",
              "      <td>0.00</td>\n",
              "      <td>0</td>\n",
              "      <td>2.100000e+08</td>\n",
              "      <td>2.100000e+08</td>\n",
              "    </tr>\n",
              "    <tr>\n",
              "      <th>Babidi Saga/Majin Buu Saga</th>\n",
              "      <td>0.000000</td>\n",
              "      <td>0.000000e+00</td>\n",
              "      <td>1.638089e+11</td>\n",
              "      <td>1.638089e+11</td>\n",
              "      <td>0.00</td>\n",
              "      <td>0</td>\n",
              "      <td>3.325000e+10</td>\n",
              "      <td>3.325000e+10</td>\n",
              "    </tr>\n",
              "    <tr>\n",
              "      <th>Baby Saga</th>\n",
              "      <td>0.000000</td>\n",
              "      <td>7.882298e+13</td>\n",
              "      <td>0.000000e+00</td>\n",
              "      <td>7.882298e+13</td>\n",
              "      <td>0.00</td>\n",
              "      <td>500000000000</td>\n",
              "      <td>0.000000e+00</td>\n",
              "      <td>5.000000e+11</td>\n",
              "    </tr>\n",
              "    <tr>\n",
              "      <th>Black-Star Dragon Ball Saga</th>\n",
              "      <td>0.000000</td>\n",
              "      <td>1.277656e+11</td>\n",
              "      <td>0.000000e+00</td>\n",
              "      <td>1.277656e+11</td>\n",
              "      <td>0.00</td>\n",
              "      <td>24000000</td>\n",
              "      <td>0.000000e+00</td>\n",
              "      <td>2.400000e+07</td>\n",
              "    </tr>\n",
              "    <tr>\n",
              "      <th>Captain Ginyu Saga</th>\n",
              "      <td>0.000000</td>\n",
              "      <td>0.000000e+00</td>\n",
              "      <td>8.508571e+04</td>\n",
              "      <td>8.508571e+04</td>\n",
              "      <td>0.00</td>\n",
              "      <td>0</td>\n",
              "      <td>6.350000e+04</td>\n",
              "      <td>6.350000e+04</td>\n",
              "    </tr>\n",
              "    <tr>\n",
              "      <th>Cell Games Saga</th>\n",
              "      <td>0.000000</td>\n",
              "      <td>0.000000e+00</td>\n",
              "      <td>2.228820e+10</td>\n",
              "      <td>2.228820e+10</td>\n",
              "      <td>0.00</td>\n",
              "      <td>0</td>\n",
              "      <td>1.225000e+10</td>\n",
              "      <td>1.225000e+10</td>\n",
              "    </tr>\n",
              "    <tr>\n",
              "      <th>Dragon Ball GT: A Hero's Legacy</th>\n",
              "      <td>0.000000</td>\n",
              "      <td>0.000000e+00</td>\n",
              "      <td>7.693853e+09</td>\n",
              "      <td>7.693853e+09</td>\n",
              "      <td>0.00</td>\n",
              "      <td>0</td>\n",
              "      <td>1.500000e+01</td>\n",
              "      <td>1.500000e+01</td>\n",
              "    </tr>\n",
              "    <tr>\n",
              "      <th>Dragon Ball Z: Bardock-Father of Goku</th>\n",
              "      <td>0.000000</td>\n",
              "      <td>0.000000e+00</td>\n",
              "      <td>7.160385e+04</td>\n",
              "      <td>7.160385e+04</td>\n",
              "      <td>0.00</td>\n",
              "      <td>0</td>\n",
              "      <td>1.100000e+04</td>\n",
              "      <td>1.100000e+04</td>\n",
              "    </tr>\n",
              "    <tr>\n",
              "      <th>Dragon Ball Z: History of Trunks</th>\n",
              "      <td>0.000000</td>\n",
              "      <td>0.000000e+00</td>\n",
              "      <td>1.448318e+09</td>\n",
              "      <td>1.448318e+09</td>\n",
              "      <td>0.00</td>\n",
              "      <td>0</td>\n",
              "      <td>6.000000e+06</td>\n",
              "      <td>6.000000e+06</td>\n",
              "    </tr>\n",
              "    <tr>\n",
              "      <th>Dragon Ball: Episode of Bardock</th>\n",
              "      <td>0.000000</td>\n",
              "      <td>0.000000e+00</td>\n",
              "      <td>1.910571e+06</td>\n",
              "      <td>1.910571e+06</td>\n",
              "      <td>0.00</td>\n",
              "      <td>0</td>\n",
              "      <td>2.900000e+05</td>\n",
              "      <td>2.900000e+05</td>\n",
              "    </tr>\n",
              "    <tr>\n",
              "      <th>Dragon Ball: Yo! Son Goku and His Friends Return</th>\n",
              "      <td>0.000000</td>\n",
              "      <td>0.000000e+00</td>\n",
              "      <td>3.823618e+10</td>\n",
              "      <td>3.823618e+10</td>\n",
              "      <td>0.00</td>\n",
              "      <td>0</td>\n",
              "      <td>3.960000e+07</td>\n",
              "      <td>3.960000e+07</td>\n",
              "    </tr>\n",
              "    <tr>\n",
              "      <th>Emperor Pilaf Saga</th>\n",
              "      <td>35.500000</td>\n",
              "      <td>0.000000e+00</td>\n",
              "      <td>0.000000e+00</td>\n",
              "      <td>3.550000e+01</td>\n",
              "      <td>9.25</td>\n",
              "      <td>0</td>\n",
              "      <td>0.000000e+00</td>\n",
              "      <td>9.250000e+00</td>\n",
              "    </tr>\n",
              "    <tr>\n",
              "      <th>Fortune Teller Baba Saga</th>\n",
              "      <td>68.750000</td>\n",
              "      <td>0.000000e+00</td>\n",
              "      <td>0.000000e+00</td>\n",
              "      <td>6.875000e+01</td>\n",
              "      <td>71.50</td>\n",
              "      <td>0</td>\n",
              "      <td>0.000000e+00</td>\n",
              "      <td>7.150000e+01</td>\n",
              "    </tr>\n",
              "    <tr>\n",
              "      <th>Frieza Saga</th>\n",
              "      <td>0.000000</td>\n",
              "      <td>0.000000e+00</td>\n",
              "      <td>2.063870e+07</td>\n",
              "      <td>2.063870e+07</td>\n",
              "      <td>0.00</td>\n",
              "      <td>0</td>\n",
              "      <td>1.500000e+06</td>\n",
              "      <td>1.500000e+06</td>\n",
              "    </tr>\n",
              "    <tr>\n",
              "      <th>Fusion Saga</th>\n",
              "      <td>0.000000</td>\n",
              "      <td>0.000000e+00</td>\n",
              "      <td>1.100343e+12</td>\n",
              "      <td>1.100343e+12</td>\n",
              "      <td>0.00</td>\n",
              "      <td>0</td>\n",
              "      <td>5.000000e+10</td>\n",
              "      <td>5.000000e+10</td>\n",
              "    </tr>\n",
              "    <tr>\n",
              "      <th>Ginyu Force Saga</th>\n",
              "      <td>0.000000</td>\n",
              "      <td>0.000000e+00</td>\n",
              "      <td>3.200000e+04</td>\n",
              "      <td>3.200000e+04</td>\n",
              "      <td>0.00</td>\n",
              "      <td>0</td>\n",
              "      <td>2.650000e+04</td>\n",
              "      <td>2.650000e+04</td>\n",
              "    </tr>\n",
              "    <tr>\n",
              "      <th>Goku And Gohan in The Hyperbolic Time Chamber</th>\n",
              "      <td>0.000000</td>\n",
              "      <td>0.000000e+00</td>\n",
              "      <td>5.824750e+09</td>\n",
              "      <td>5.824750e+09</td>\n",
              "      <td>0.00</td>\n",
              "      <td>0</td>\n",
              "      <td>4.250000e+08</td>\n",
              "      <td>4.250000e+08</td>\n",
              "    </tr>\n",
              "    <tr>\n",
              "      <th>Great Saiyaman Saga/World Tournament Saga</th>\n",
              "      <td>0.000000</td>\n",
              "      <td>0.000000e+00</td>\n",
              "      <td>1.242561e+10</td>\n",
              "      <td>1.242561e+10</td>\n",
              "      <td>0.00</td>\n",
              "      <td>0</td>\n",
              "      <td>3.600000e+08</td>\n",
              "      <td>3.600000e+08</td>\n",
              "    </tr>\n",
              "    <tr>\n",
              "      <th>Imperfect Cell Saga</th>\n",
              "      <td>0.000000</td>\n",
              "      <td>0.000000e+00</td>\n",
              "      <td>9.242938e+08</td>\n",
              "      <td>9.242938e+08</td>\n",
              "      <td>0.00</td>\n",
              "      <td>0</td>\n",
              "      <td>7.600000e+08</td>\n",
              "      <td>7.600000e+08</td>\n",
              "    </tr>\n",
              "    <tr>\n",
              "      <th>Kid Buu Saga</th>\n",
              "      <td>0.000000</td>\n",
              "      <td>0.000000e+00</td>\n",
              "      <td>8.184071e+11</td>\n",
              "      <td>8.184071e+11</td>\n",
              "      <td>0.00</td>\n",
              "      <td>0</td>\n",
              "      <td>1.291250e+11</td>\n",
              "      <td>1.291250e+11</td>\n",
              "    </tr>\n",
              "    <tr>\n",
              "      <th>King Piccolo Saga</th>\n",
              "      <td>221.280000</td>\n",
              "      <td>0.000000e+00</td>\n",
              "      <td>0.000000e+00</td>\n",
              "      <td>2.212800e+02</td>\n",
              "      <td>180.00</td>\n",
              "      <td>0</td>\n",
              "      <td>0.000000e+00</td>\n",
              "      <td>1.800000e+02</td>\n",
              "    </tr>\n",
              "    <tr>\n",
              "      <th>Movie 10: Broly- The Second Coming</th>\n",
              "      <td>0.000000</td>\n",
              "      <td>0.000000e+00</td>\n",
              "      <td>4.554193e+10</td>\n",
              "      <td>4.554193e+10</td>\n",
              "      <td>0.00</td>\n",
              "      <td>0</td>\n",
              "      <td>1.650000e+09</td>\n",
              "      <td>1.650000e+09</td>\n",
              "    </tr>\n",
              "    <tr>\n",
              "      <th>Movie 11: Bio-Broly</th>\n",
              "      <td>0.000000</td>\n",
              "      <td>0.000000e+00</td>\n",
              "      <td>1.369138e+09</td>\n",
              "      <td>1.369138e+09</td>\n",
              "      <td>0.00</td>\n",
              "      <td>0</td>\n",
              "      <td>5.000000e+08</td>\n",
              "      <td>5.000000e+08</td>\n",
              "    </tr>\n",
              "    <tr>\n",
              "      <th>Movie 12: Fusion Reborn</th>\n",
              "      <td>0.000000</td>\n",
              "      <td>0.000000e+00</td>\n",
              "      <td>2.013147e+12</td>\n",
              "      <td>2.013147e+12</td>\n",
              "      <td>0.00</td>\n",
              "      <td>0</td>\n",
              "      <td>2.200000e+09</td>\n",
              "      <td>2.200000e+09</td>\n",
              "    </tr>\n",
              "    <tr>\n",
              "      <th>Movie 13: Wrath of the Dragon</th>\n",
              "      <td>0.000000</td>\n",
              "      <td>0.000000e+00</td>\n",
              "      <td>6.092966e+11</td>\n",
              "      <td>6.092966e+11</td>\n",
              "      <td>0.00</td>\n",
              "      <td>0</td>\n",
              "      <td>2.800000e+09</td>\n",
              "      <td>2.800000e+09</td>\n",
              "    </tr>\n",
              "    <tr>\n",
              "      <th>Movie 14: Battle of Gods</th>\n",
              "      <td>0.000000</td>\n",
              "      <td>0.000000e+00</td>\n",
              "      <td>1.654437e+14</td>\n",
              "      <td>1.654437e+14</td>\n",
              "      <td>0.00</td>\n",
              "      <td>0</td>\n",
              "      <td>2.600000e+11</td>\n",
              "      <td>2.600000e+11</td>\n",
              "    </tr>\n",
              "    <tr>\n",
              "      <th>Movie 1: Dead Zone</th>\n",
              "      <td>0.000000</td>\n",
              "      <td>0.000000e+00</td>\n",
              "      <td>3.403333e+02</td>\n",
              "      <td>3.403333e+02</td>\n",
              "      <td>0.00</td>\n",
              "      <td>0</td>\n",
              "      <td>2.825000e+02</td>\n",
              "      <td>2.825000e+02</td>\n",
              "    </tr>\n",
              "    <tr>\n",
              "      <th>Movie 2: World's Strongest</th>\n",
              "      <td>0.000000</td>\n",
              "      <td>0.000000e+00</td>\n",
              "      <td>3.837229e+04</td>\n",
              "      <td>3.837229e+04</td>\n",
              "      <td>0.00</td>\n",
              "      <td>0</td>\n",
              "      <td>8.300000e+03</td>\n",
              "      <td>8.300000e+03</td>\n",
              "    </tr>\n",
              "    <tr>\n",
              "      <th>Movie 3: The Tree of Might</th>\n",
              "      <td>0.000000</td>\n",
              "      <td>0.000000e+00</td>\n",
              "      <td>3.567632e+07</td>\n",
              "      <td>3.567632e+07</td>\n",
              "      <td>0.00</td>\n",
              "      <td>0</td>\n",
              "      <td>1.000000e+05</td>\n",
              "      <td>1.000000e+05</td>\n",
              "    </tr>\n",
              "    <tr>\n",
              "      <th>Movie 4: Lord Slug</th>\n",
              "      <td>0.000000</td>\n",
              "      <td>0.000000e+00</td>\n",
              "      <td>3.364874e+08</td>\n",
              "      <td>3.364874e+08</td>\n",
              "      <td>0.00</td>\n",
              "      <td>0</td>\n",
              "      <td>1.350000e+06</td>\n",
              "      <td>1.350000e+06</td>\n",
              "    </tr>\n",
              "    <tr>\n",
              "      <th>Movie 5: Cooler's Revenge</th>\n",
              "      <td>0.000000</td>\n",
              "      <td>0.000000e+00</td>\n",
              "      <td>1.460350e+08</td>\n",
              "      <td>1.460350e+08</td>\n",
              "      <td>0.00</td>\n",
              "      <td>0</td>\n",
              "      <td>1.200000e+07</td>\n",
              "      <td>1.200000e+07</td>\n",
              "    </tr>\n",
              "    <tr>\n",
              "      <th>Movie 6: The Return of Cooler</th>\n",
              "      <td>0.000000</td>\n",
              "      <td>0.000000e+00</td>\n",
              "      <td>3.895337e+09</td>\n",
              "      <td>3.895337e+09</td>\n",
              "      <td>0.00</td>\n",
              "      <td>0</td>\n",
              "      <td>4.000000e+08</td>\n",
              "      <td>4.000000e+08</td>\n",
              "    </tr>\n",
              "    <tr>\n",
              "      <th>Movie 7: Super Android 13</th>\n",
              "      <td>0.000000</td>\n",
              "      <td>0.000000e+00</td>\n",
              "      <td>6.490306e+08</td>\n",
              "      <td>6.490306e+08</td>\n",
              "      <td>0.00</td>\n",
              "      <td>0</td>\n",
              "      <td>5.750000e+08</td>\n",
              "      <td>5.750000e+08</td>\n",
              "    </tr>\n",
              "    <tr>\n",
              "      <th>Movie 8: Broly - The Legendary Super Saiyan</th>\n",
              "      <td>0.000000</td>\n",
              "      <td>0.000000e+00</td>\n",
              "      <td>9.416739e+09</td>\n",
              "      <td>9.416739e+09</td>\n",
              "      <td>0.00</td>\n",
              "      <td>0</td>\n",
              "      <td>3.450000e+08</td>\n",
              "      <td>3.450000e+08</td>\n",
              "    </tr>\n",
              "    <tr>\n",
              "      <th>Movie 9: Bojack Unbound</th>\n",
              "      <td>0.000000</td>\n",
              "      <td>0.000000e+00</td>\n",
              "      <td>5.807737e+09</td>\n",
              "      <td>5.807737e+09</td>\n",
              "      <td>0.00</td>\n",
              "      <td>0</td>\n",
              "      <td>8.550000e+08</td>\n",
              "      <td>8.550000e+08</td>\n",
              "    </tr>\n",
              "    <tr>\n",
              "      <th>Namek Saga</th>\n",
              "      <td>0.000000</td>\n",
              "      <td>0.000000e+00</td>\n",
              "      <td>2.413928e+04</td>\n",
              "      <td>2.413928e+04</td>\n",
              "      <td>0.00</td>\n",
              "      <td>0</td>\n",
              "      <td>1.350000e+04</td>\n",
              "      <td>1.350000e+04</td>\n",
              "    </tr>\n",
              "    <tr>\n",
              "      <th>OVA: Plan to Eradicate the Super Saiyans</th>\n",
              "      <td>0.000000</td>\n",
              "      <td>0.000000e+00</td>\n",
              "      <td>9.360884e+09</td>\n",
              "      <td>9.360884e+09</td>\n",
              "      <td>0.00</td>\n",
              "      <td>0</td>\n",
              "      <td>4.000000e+08</td>\n",
              "      <td>4.000000e+08</td>\n",
              "    </tr>\n",
              "    <tr>\n",
              "      <th>Perfect Cell Saga</th>\n",
              "      <td>0.000000</td>\n",
              "      <td>0.000000e+00</td>\n",
              "      <td>1.032605e+10</td>\n",
              "      <td>1.032605e+10</td>\n",
              "      <td>0.00</td>\n",
              "      <td>0</td>\n",
              "      <td>3.273750e+09</td>\n",
              "      <td>3.273750e+09</td>\n",
              "    </tr>\n",
              "    <tr>\n",
              "      <th>Piccolo Jr. Saga</th>\n",
              "      <td>240.857143</td>\n",
              "      <td>0.000000e+00</td>\n",
              "      <td>0.000000e+00</td>\n",
              "      <td>2.408571e+02</td>\n",
              "      <td>202.50</td>\n",
              "      <td>0</td>\n",
              "      <td>0.000000e+00</td>\n",
              "      <td>2.025000e+02</td>\n",
              "    </tr>\n",
              "    <tr>\n",
              "      <th>Red Ribbon Army Saga</th>\n",
              "      <td>63.190476</td>\n",
              "      <td>0.000000e+00</td>\n",
              "      <td>0.000000e+00</td>\n",
              "      <td>6.319048e+01</td>\n",
              "      <td>55.00</td>\n",
              "      <td>0</td>\n",
              "      <td>0.000000e+00</td>\n",
              "      <td>5.500000e+01</td>\n",
              "    </tr>\n",
              "    <tr>\n",
              "      <th>Saiyan Saga</th>\n",
              "      <td>0.000000</td>\n",
              "      <td>0.000000e+00</td>\n",
              "      <td>1.374176e+04</td>\n",
              "      <td>1.374176e+04</td>\n",
              "      <td>0.00</td>\n",
              "      <td>0</td>\n",
              "      <td>1.410000e+03</td>\n",
              "      <td>1.410000e+03</td>\n",
              "    </tr>\n",
              "    <tr>\n",
              "      <th>Shadow Dragon Saga</th>\n",
              "      <td>0.000000</td>\n",
              "      <td>1.648906e+16</td>\n",
              "      <td>0.000000e+00</td>\n",
              "      <td>1.648906e+16</td>\n",
              "      <td>0.00</td>\n",
              "      <td>400000000000</td>\n",
              "      <td>0.000000e+00</td>\n",
              "      <td>4.000000e+11</td>\n",
              "    </tr>\n",
              "    <tr>\n",
              "      <th>Super 17 saga</th>\n",
              "      <td>0.000000</td>\n",
              "      <td>3.685988e+14</td>\n",
              "      <td>0.000000e+00</td>\n",
              "      <td>3.685988e+14</td>\n",
              "      <td>0.00</td>\n",
              "      <td>47500000000</td>\n",
              "      <td>0.000000e+00</td>\n",
              "      <td>4.750000e+10</td>\n",
              "    </tr>\n",
              "    <tr>\n",
              "      <th>Tien Shinhan Saga</th>\n",
              "      <td>193.714286</td>\n",
              "      <td>0.000000e+00</td>\n",
              "      <td>0.000000e+00</td>\n",
              "      <td>1.937143e+02</td>\n",
              "      <td>139.00</td>\n",
              "      <td>0</td>\n",
              "      <td>0.000000e+00</td>\n",
              "      <td>1.390000e+02</td>\n",
              "    </tr>\n",
              "    <tr>\n",
              "      <th>Tournament Saga</th>\n",
              "      <td>82.684211</td>\n",
              "      <td>0.000000e+00</td>\n",
              "      <td>0.000000e+00</td>\n",
              "      <td>8.268421e+01</td>\n",
              "      <td>28.00</td>\n",
              "      <td>0</td>\n",
              "      <td>0.000000e+00</td>\n",
              "      <td>2.800000e+01</td>\n",
              "    </tr>\n",
              "    <tr>\n",
              "      <th>Trunks Saga</th>\n",
              "      <td>0.000000</td>\n",
              "      <td>0.000000e+00</td>\n",
              "      <td>5.709428e+08</td>\n",
              "      <td>5.709428e+08</td>\n",
              "      <td>0.00</td>\n",
              "      <td>0</td>\n",
              "      <td>6.000000e+06</td>\n",
              "      <td>6.000000e+06</td>\n",
              "    </tr>\n",
              "    <tr>\n",
              "      <th>All</th>\n",
              "      <td>135.313043</td>\n",
              "      <td>3.834142e+15</td>\n",
              "      <td>7.739931e+12</td>\n",
              "      <td>6.504012e+14</td>\n",
              "      <td>100.00</td>\n",
              "      <td>50000000000</td>\n",
              "      <td>2.000000e+07</td>\n",
              "      <td>1.960000e+07</td>\n",
              "    </tr>\n",
              "  </tbody>\n",
              "</table>\n",
              "</div>\n",
              "      <button class=\"colab-df-convert\" onclick=\"convertToInteractive('df-3ebc33d1-9921-4690-9154-f4b800897493')\"\n",
              "              title=\"Convert this dataframe to an interactive table.\"\n",
              "              style=\"display:none;\">\n",
              "        \n",
              "  <svg xmlns=\"http://www.w3.org/2000/svg\" height=\"24px\"viewBox=\"0 0 24 24\"\n",
              "       width=\"24px\">\n",
              "    <path d=\"M0 0h24v24H0V0z\" fill=\"none\"/>\n",
              "    <path d=\"M18.56 5.44l.94 2.06.94-2.06 2.06-.94-2.06-.94-.94-2.06-.94 2.06-2.06.94zm-11 1L8.5 8.5l.94-2.06 2.06-.94-2.06-.94L8.5 2.5l-.94 2.06-2.06.94zm10 10l.94 2.06.94-2.06 2.06-.94-2.06-.94-.94-2.06-.94 2.06-2.06.94z\"/><path d=\"M17.41 7.96l-1.37-1.37c-.4-.4-.92-.59-1.43-.59-.52 0-1.04.2-1.43.59L10.3 9.45l-7.72 7.72c-.78.78-.78 2.05 0 2.83L4 21.41c.39.39.9.59 1.41.59.51 0 1.02-.2 1.41-.59l7.78-7.78 2.81-2.81c.8-.78.8-2.07 0-2.86zM5.41 20L4 18.59l7.72-7.72 1.47 1.35L5.41 20z\"/>\n",
              "  </svg>\n",
              "      </button>\n",
              "      \n",
              "  <style>\n",
              "    .colab-df-container {\n",
              "      display:flex;\n",
              "      flex-wrap:wrap;\n",
              "      gap: 12px;\n",
              "    }\n",
              "\n",
              "    .colab-df-convert {\n",
              "      background-color: #E8F0FE;\n",
              "      border: none;\n",
              "      border-radius: 50%;\n",
              "      cursor: pointer;\n",
              "      display: none;\n",
              "      fill: #1967D2;\n",
              "      height: 32px;\n",
              "      padding: 0 0 0 0;\n",
              "      width: 32px;\n",
              "    }\n",
              "\n",
              "    .colab-df-convert:hover {\n",
              "      background-color: #E2EBFA;\n",
              "      box-shadow: 0px 1px 2px rgba(60, 64, 67, 0.3), 0px 1px 3px 1px rgba(60, 64, 67, 0.15);\n",
              "      fill: #174EA6;\n",
              "    }\n",
              "\n",
              "    [theme=dark] .colab-df-convert {\n",
              "      background-color: #3B4455;\n",
              "      fill: #D2E3FC;\n",
              "    }\n",
              "\n",
              "    [theme=dark] .colab-df-convert:hover {\n",
              "      background-color: #434B5C;\n",
              "      box-shadow: 0px 1px 3px 1px rgba(0, 0, 0, 0.15);\n",
              "      filter: drop-shadow(0px 1px 2px rgba(0, 0, 0, 0.3));\n",
              "      fill: #FFFFFF;\n",
              "    }\n",
              "  </style>\n",
              "\n",
              "      <script>\n",
              "        const buttonEl =\n",
              "          document.querySelector('#df-3ebc33d1-9921-4690-9154-f4b800897493 button.colab-df-convert');\n",
              "        buttonEl.style.display =\n",
              "          google.colab.kernel.accessAllowed ? 'block' : 'none';\n",
              "\n",
              "        async function convertToInteractive(key) {\n",
              "          const element = document.querySelector('#df-3ebc33d1-9921-4690-9154-f4b800897493');\n",
              "          const dataTable =\n",
              "            await google.colab.kernel.invokeFunction('convertToInteractive',\n",
              "                                                     [key], {});\n",
              "          if (!dataTable) return;\n",
              "\n",
              "          const docLinkHtml = 'Like what you see? Visit the ' +\n",
              "            '<a target=\"_blank\" href=https://colab.research.google.com/notebooks/data_table.ipynb>data table notebook</a>'\n",
              "            + ' to learn more about interactive tables.';\n",
              "          element.innerHTML = '';\n",
              "          dataTable['output_type'] = 'display_data';\n",
              "          await google.colab.output.renderOutput(dataTable, element);\n",
              "          const docLink = document.createElement('div');\n",
              "          docLink.innerHTML = docLinkHtml;\n",
              "          element.appendChild(docLink);\n",
              "        }\n",
              "      </script>\n",
              "    </div>\n",
              "  </div>\n",
              "  "
            ],
            "text/plain": [
              "                                                         mean  ...        median\n",
              "Dragon_Ball_Series                                Dragon Ball  ...           All\n",
              "Saga_or_Movie                                                  ...              \n",
              "Android Saga                                         0.000000  ...  2.100000e+08\n",
              "Babidi Saga/Majin Buu Saga                           0.000000  ...  3.325000e+10\n",
              "Baby Saga                                            0.000000  ...  5.000000e+11\n",
              "Black-Star Dragon Ball Saga                          0.000000  ...  2.400000e+07\n",
              "Captain Ginyu Saga                                   0.000000  ...  6.350000e+04\n",
              "Cell Games Saga                                      0.000000  ...  1.225000e+10\n",
              "Dragon Ball GT: A Hero's Legacy                      0.000000  ...  1.500000e+01\n",
              "Dragon Ball Z: Bardock-Father of Goku                0.000000  ...  1.100000e+04\n",
              "Dragon Ball Z: History of Trunks                     0.000000  ...  6.000000e+06\n",
              "Dragon Ball: Episode of Bardock                      0.000000  ...  2.900000e+05\n",
              "Dragon Ball: Yo! Son Goku and His Friends Return     0.000000  ...  3.960000e+07\n",
              "Emperor Pilaf Saga                                  35.500000  ...  9.250000e+00\n",
              "Fortune Teller Baba Saga                            68.750000  ...  7.150000e+01\n",
              "Frieza Saga                                          0.000000  ...  1.500000e+06\n",
              "Fusion Saga                                          0.000000  ...  5.000000e+10\n",
              "Ginyu Force Saga                                     0.000000  ...  2.650000e+04\n",
              "Goku And Gohan in The Hyperbolic Time Chamber        0.000000  ...  4.250000e+08\n",
              "Great Saiyaman Saga/World Tournament Saga            0.000000  ...  3.600000e+08\n",
              "Imperfect Cell Saga                                  0.000000  ...  7.600000e+08\n",
              "Kid Buu Saga                                         0.000000  ...  1.291250e+11\n",
              "King Piccolo Saga                                  221.280000  ...  1.800000e+02\n",
              "Movie 10: Broly- The Second Coming                   0.000000  ...  1.650000e+09\n",
              "Movie 11: Bio-Broly                                  0.000000  ...  5.000000e+08\n",
              "Movie 12: Fusion Reborn                              0.000000  ...  2.200000e+09\n",
              "Movie 13: Wrath of the Dragon                        0.000000  ...  2.800000e+09\n",
              "Movie 14: Battle of Gods                             0.000000  ...  2.600000e+11\n",
              "Movie 1: Dead Zone                                   0.000000  ...  2.825000e+02\n",
              "Movie 2: World's Strongest                           0.000000  ...  8.300000e+03\n",
              "Movie 3: The Tree of Might                           0.000000  ...  1.000000e+05\n",
              "Movie 4: Lord Slug                                   0.000000  ...  1.350000e+06\n",
              "Movie 5: Cooler's Revenge                            0.000000  ...  1.200000e+07\n",
              "Movie 6: The Return of Cooler                        0.000000  ...  4.000000e+08\n",
              "Movie 7: Super Android 13                            0.000000  ...  5.750000e+08\n",
              "Movie 8: Broly - The Legendary Super Saiyan          0.000000  ...  3.450000e+08\n",
              "Movie 9: Bojack Unbound                              0.000000  ...  8.550000e+08\n",
              "Namek Saga                                           0.000000  ...  1.350000e+04\n",
              "OVA: Plan to Eradicate the Super Saiyans             0.000000  ...  4.000000e+08\n",
              "Perfect Cell Saga                                    0.000000  ...  3.273750e+09\n",
              "Piccolo Jr. Saga                                   240.857143  ...  2.025000e+02\n",
              "Red Ribbon Army Saga                                63.190476  ...  5.500000e+01\n",
              "Saiyan Saga                                          0.000000  ...  1.410000e+03\n",
              "Shadow Dragon Saga                                   0.000000  ...  4.000000e+11\n",
              "Super 17 saga                                        0.000000  ...  4.750000e+10\n",
              "Tien Shinhan Saga                                  193.714286  ...  1.390000e+02\n",
              "Tournament Saga                                     82.684211  ...  2.800000e+01\n",
              "Trunks Saga                                          0.000000  ...  6.000000e+06\n",
              "All                                                135.313043  ...  1.960000e+07\n",
              "\n",
              "[47 rows x 8 columns]"
            ]
          },
          "metadata": {},
          "execution_count": 13
        }
      ]
    },
    {
      "cell_type": "markdown",
      "source": [
        "## Visualización\n",
        "\n",
        "Para visualizar nuestros datos utilizaremos matplotlib una poderosa herramienta para visualizacion de datos"
      ],
      "metadata": {
        "id": "8WU7sUBQLBfP"
      }
    },
    {
      "cell_type": "code",
      "source": [
        "import matplotlib.pyplot as plt\n"
      ],
      "metadata": {
        "id": "03-f6_pTVdz6"
      },
      "execution_count": 14,
      "outputs": []
    },
    {
      "cell_type": "markdown",
      "source": [
        "Nuevamente visualizamos nuestros primeros registros"
      ],
      "metadata": {
        "id": "MyaOp-K3LU_P"
      }
    },
    {
      "cell_type": "code",
      "source": [
        "df.head()"
      ],
      "metadata": {
        "colab": {
          "base_uri": "https://localhost:8080/",
          "height": 206
        },
        "id": "4wgBZvggVwed",
        "outputId": "f9718be9-4c52-43a5-a9f4-f82e4adef446"
      },
      "execution_count": 15,
      "outputs": [
        {
          "output_type": "execute_result",
          "data": {
            "text/html": [
              "\n",
              "  <div id=\"df-1019703c-a6a1-4b7a-b165-0a3367b2ef71\">\n",
              "    <div class=\"colab-df-container\">\n",
              "      <div>\n",
              "<style scoped>\n",
              "    .dataframe tbody tr th:only-of-type {\n",
              "        vertical-align: middle;\n",
              "    }\n",
              "\n",
              "    .dataframe tbody tr th {\n",
              "        vertical-align: top;\n",
              "    }\n",
              "\n",
              "    .dataframe thead th {\n",
              "        text-align: right;\n",
              "    }\n",
              "</style>\n",
              "<table border=\"1\" class=\"dataframe\">\n",
              "  <thead>\n",
              "    <tr style=\"text-align: right;\">\n",
              "      <th></th>\n",
              "      <th>Character</th>\n",
              "      <th>Power_Level</th>\n",
              "      <th>Saga_or_Movie</th>\n",
              "      <th>Dragon_Ball_Series</th>\n",
              "    </tr>\n",
              "  </thead>\n",
              "  <tbody>\n",
              "    <tr>\n",
              "      <th>0</th>\n",
              "      <td>Goku</td>\n",
              "      <td>10.0</td>\n",
              "      <td>Emperor Pilaf Saga</td>\n",
              "      <td>Dragon Ball</td>\n",
              "    </tr>\n",
              "    <tr>\n",
              "      <th>1</th>\n",
              "      <td>Bulma</td>\n",
              "      <td>1.5</td>\n",
              "      <td>Emperor Pilaf Saga</td>\n",
              "      <td>Dragon Ball</td>\n",
              "    </tr>\n",
              "    <tr>\n",
              "      <th>2</th>\n",
              "      <td>Bear Thief</td>\n",
              "      <td>7.0</td>\n",
              "      <td>Emperor Pilaf Saga</td>\n",
              "      <td>Dragon Ball</td>\n",
              "    </tr>\n",
              "    <tr>\n",
              "      <th>3</th>\n",
              "      <td>Master Roshi</td>\n",
              "      <td>30.0</td>\n",
              "      <td>Emperor Pilaf Saga</td>\n",
              "      <td>Dragon Ball</td>\n",
              "    </tr>\n",
              "    <tr>\n",
              "      <th>4</th>\n",
              "      <td>Oolong</td>\n",
              "      <td>5.0</td>\n",
              "      <td>Emperor Pilaf Saga</td>\n",
              "      <td>Dragon Ball</td>\n",
              "    </tr>\n",
              "  </tbody>\n",
              "</table>\n",
              "</div>\n",
              "      <button class=\"colab-df-convert\" onclick=\"convertToInteractive('df-1019703c-a6a1-4b7a-b165-0a3367b2ef71')\"\n",
              "              title=\"Convert this dataframe to an interactive table.\"\n",
              "              style=\"display:none;\">\n",
              "        \n",
              "  <svg xmlns=\"http://www.w3.org/2000/svg\" height=\"24px\"viewBox=\"0 0 24 24\"\n",
              "       width=\"24px\">\n",
              "    <path d=\"M0 0h24v24H0V0z\" fill=\"none\"/>\n",
              "    <path d=\"M18.56 5.44l.94 2.06.94-2.06 2.06-.94-2.06-.94-.94-2.06-.94 2.06-2.06.94zm-11 1L8.5 8.5l.94-2.06 2.06-.94-2.06-.94L8.5 2.5l-.94 2.06-2.06.94zm10 10l.94 2.06.94-2.06 2.06-.94-2.06-.94-.94-2.06-.94 2.06-2.06.94z\"/><path d=\"M17.41 7.96l-1.37-1.37c-.4-.4-.92-.59-1.43-.59-.52 0-1.04.2-1.43.59L10.3 9.45l-7.72 7.72c-.78.78-.78 2.05 0 2.83L4 21.41c.39.39.9.59 1.41.59.51 0 1.02-.2 1.41-.59l7.78-7.78 2.81-2.81c.8-.78.8-2.07 0-2.86zM5.41 20L4 18.59l7.72-7.72 1.47 1.35L5.41 20z\"/>\n",
              "  </svg>\n",
              "      </button>\n",
              "      \n",
              "  <style>\n",
              "    .colab-df-container {\n",
              "      display:flex;\n",
              "      flex-wrap:wrap;\n",
              "      gap: 12px;\n",
              "    }\n",
              "\n",
              "    .colab-df-convert {\n",
              "      background-color: #E8F0FE;\n",
              "      border: none;\n",
              "      border-radius: 50%;\n",
              "      cursor: pointer;\n",
              "      display: none;\n",
              "      fill: #1967D2;\n",
              "      height: 32px;\n",
              "      padding: 0 0 0 0;\n",
              "      width: 32px;\n",
              "    }\n",
              "\n",
              "    .colab-df-convert:hover {\n",
              "      background-color: #E2EBFA;\n",
              "      box-shadow: 0px 1px 2px rgba(60, 64, 67, 0.3), 0px 1px 3px 1px rgba(60, 64, 67, 0.15);\n",
              "      fill: #174EA6;\n",
              "    }\n",
              "\n",
              "    [theme=dark] .colab-df-convert {\n",
              "      background-color: #3B4455;\n",
              "      fill: #D2E3FC;\n",
              "    }\n",
              "\n",
              "    [theme=dark] .colab-df-convert:hover {\n",
              "      background-color: #434B5C;\n",
              "      box-shadow: 0px 1px 3px 1px rgba(0, 0, 0, 0.15);\n",
              "      filter: drop-shadow(0px 1px 2px rgba(0, 0, 0, 0.3));\n",
              "      fill: #FFFFFF;\n",
              "    }\n",
              "  </style>\n",
              "\n",
              "      <script>\n",
              "        const buttonEl =\n",
              "          document.querySelector('#df-1019703c-a6a1-4b7a-b165-0a3367b2ef71 button.colab-df-convert');\n",
              "        buttonEl.style.display =\n",
              "          google.colab.kernel.accessAllowed ? 'block' : 'none';\n",
              "\n",
              "        async function convertToInteractive(key) {\n",
              "          const element = document.querySelector('#df-1019703c-a6a1-4b7a-b165-0a3367b2ef71');\n",
              "          const dataTable =\n",
              "            await google.colab.kernel.invokeFunction('convertToInteractive',\n",
              "                                                     [key], {});\n",
              "          if (!dataTable) return;\n",
              "\n",
              "          const docLinkHtml = 'Like what you see? Visit the ' +\n",
              "            '<a target=\"_blank\" href=https://colab.research.google.com/notebooks/data_table.ipynb>data table notebook</a>'\n",
              "            + ' to learn more about interactive tables.';\n",
              "          element.innerHTML = '';\n",
              "          dataTable['output_type'] = 'display_data';\n",
              "          await google.colab.output.renderOutput(dataTable, element);\n",
              "          const docLink = document.createElement('div');\n",
              "          docLink.innerHTML = docLinkHtml;\n",
              "          element.appendChild(docLink);\n",
              "        }\n",
              "      </script>\n",
              "    </div>\n",
              "  </div>\n",
              "  "
            ],
            "text/plain": [
              "      Character  Power_Level       Saga_or_Movie Dragon_Ball_Series\n",
              "0          Goku         10.0  Emperor Pilaf Saga        Dragon Ball\n",
              "1         Bulma          1.5  Emperor Pilaf Saga        Dragon Ball\n",
              "2    Bear Thief          7.0  Emperor Pilaf Saga        Dragon Ball\n",
              "3  Master Roshi         30.0  Emperor Pilaf Saga        Dragon Ball\n",
              "4        Oolong          5.0  Emperor Pilaf Saga        Dragon Ball"
            ]
          },
          "metadata": {},
          "execution_count": 15
        }
      ]
    },
    {
      "cell_type": "markdown",
      "source": [
        "Ahora vamos a ver cuantas series tenemos en el Dataset porque yo solo he visto algunas y no voy a trabajar con todas\n",
        "\n",
        "- Tenemos 3 series \n",
        "- Dragon Ball Z tiene 919 registros por lo tanto vamos a comenzar con esta"
      ],
      "metadata": {
        "id": "pmYA-1bQLfaq"
      }
    },
    {
      "cell_type": "code",
      "source": [
        "df.Dragon_Ball_Series.unique()"
      ],
      "metadata": {
        "colab": {
          "base_uri": "https://localhost:8080/"
        },
        "id": "BQuDj4tgLsju",
        "outputId": "3f1c1e82-f127-4757-d081-1aa63a630150"
      },
      "execution_count": 16,
      "outputs": [
        {
          "output_type": "execute_result",
          "data": {
            "text/plain": [
              "array(['Dragon Ball', 'Dragon Ball Z', 'Dragon Ball GT'], dtype=object)"
            ]
          },
          "metadata": {},
          "execution_count": 16
        }
      ]
    },
    {
      "cell_type": "code",
      "source": [
        "df.Dragon_Ball_Series.value_counts(sort=True)"
      ],
      "metadata": {
        "colab": {
          "base_uri": "https://localhost:8080/"
        },
        "id": "43mhoQU6MBRO",
        "outputId": "09720c4c-bd1a-4301-fc73-50a3a88e66be"
      },
      "execution_count": 17,
      "outputs": [
        {
          "output_type": "execute_result",
          "data": {
            "text/plain": [
              "Dragon Ball Z     919\n",
              "Dragon Ball GT    209\n",
              "Dragon Ball       115\n",
              "Name: Dragon_Ball_Series, dtype: int64"
            ]
          },
          "metadata": {},
          "execution_count": 17
        }
      ]
    },
    {
      "cell_type": "markdown",
      "source": [
        "## Dragon Ball Z\n",
        "\n",
        "Creamos un nuevo Dataframe unicamente con los registros de Dragon Ball Z"
      ],
      "metadata": {
        "id": "_mAYG20hCSq5"
      }
    },
    {
      "cell_type": "code",
      "source": [
        "df_Z=df.loc[df.Dragon_Ball_Series == 'Dragon Ball Z']"
      ],
      "metadata": {
        "id": "dnTLNvWBWLS0"
      },
      "execution_count": 18,
      "outputs": []
    },
    {
      "cell_type": "markdown",
      "source": [
        "Observamos los primeros registros y una buena opcion es reiniciar el indice para que comience en 0"
      ],
      "metadata": {
        "id": "XjDPtbq5NTxJ"
      }
    },
    {
      "cell_type": "code",
      "source": [
        "df_Z.head()"
      ],
      "metadata": {
        "colab": {
          "base_uri": "https://localhost:8080/",
          "height": 206
        },
        "id": "i6kNodo2Wwda",
        "outputId": "3a703be7-3afd-4256-97f5-e996669dbfec"
      },
      "execution_count": 19,
      "outputs": [
        {
          "output_type": "execute_result",
          "data": {
            "text/html": [
              "\n",
              "  <div id=\"df-661d7a38-96df-4b97-a083-2a8aed153174\">\n",
              "    <div class=\"colab-df-container\">\n",
              "      <div>\n",
              "<style scoped>\n",
              "    .dataframe tbody tr th:only-of-type {\n",
              "        vertical-align: middle;\n",
              "    }\n",
              "\n",
              "    .dataframe tbody tr th {\n",
              "        vertical-align: top;\n",
              "    }\n",
              "\n",
              "    .dataframe thead th {\n",
              "        text-align: right;\n",
              "    }\n",
              "</style>\n",
              "<table border=\"1\" class=\"dataframe\">\n",
              "  <thead>\n",
              "    <tr style=\"text-align: right;\">\n",
              "      <th></th>\n",
              "      <th>Character</th>\n",
              "      <th>Power_Level</th>\n",
              "      <th>Saga_or_Movie</th>\n",
              "      <th>Dragon_Ball_Series</th>\n",
              "    </tr>\n",
              "  </thead>\n",
              "  <tbody>\n",
              "    <tr>\n",
              "      <th>115</th>\n",
              "      <td>Farmer (without shotgun)</td>\n",
              "      <td>2.0</td>\n",
              "      <td>Saiyan Saga</td>\n",
              "      <td>Dragon Ball Z</td>\n",
              "    </tr>\n",
              "    <tr>\n",
              "      <th>116</th>\n",
              "      <td>Farmer (with shotgun)</td>\n",
              "      <td>5.0</td>\n",
              "      <td>Saiyan Saga</td>\n",
              "      <td>Dragon Ball Z</td>\n",
              "    </tr>\n",
              "    <tr>\n",
              "      <th>117</th>\n",
              "      <td>Raditz</td>\n",
              "      <td>1200.0</td>\n",
              "      <td>Saiyan Saga</td>\n",
              "      <td>Dragon Ball Z</td>\n",
              "    </tr>\n",
              "    <tr>\n",
              "      <th>118</th>\n",
              "      <td>Gohan</td>\n",
              "      <td>1.0</td>\n",
              "      <td>Saiyan Saga</td>\n",
              "      <td>Dragon Ball Z</td>\n",
              "    </tr>\n",
              "    <tr>\n",
              "      <th>119</th>\n",
              "      <td>Piccolo (weighted)</td>\n",
              "      <td>326.0</td>\n",
              "      <td>Saiyan Saga</td>\n",
              "      <td>Dragon Ball Z</td>\n",
              "    </tr>\n",
              "  </tbody>\n",
              "</table>\n",
              "</div>\n",
              "      <button class=\"colab-df-convert\" onclick=\"convertToInteractive('df-661d7a38-96df-4b97-a083-2a8aed153174')\"\n",
              "              title=\"Convert this dataframe to an interactive table.\"\n",
              "              style=\"display:none;\">\n",
              "        \n",
              "  <svg xmlns=\"http://www.w3.org/2000/svg\" height=\"24px\"viewBox=\"0 0 24 24\"\n",
              "       width=\"24px\">\n",
              "    <path d=\"M0 0h24v24H0V0z\" fill=\"none\"/>\n",
              "    <path d=\"M18.56 5.44l.94 2.06.94-2.06 2.06-.94-2.06-.94-.94-2.06-.94 2.06-2.06.94zm-11 1L8.5 8.5l.94-2.06 2.06-.94-2.06-.94L8.5 2.5l-.94 2.06-2.06.94zm10 10l.94 2.06.94-2.06 2.06-.94-2.06-.94-.94-2.06-.94 2.06-2.06.94z\"/><path d=\"M17.41 7.96l-1.37-1.37c-.4-.4-.92-.59-1.43-.59-.52 0-1.04.2-1.43.59L10.3 9.45l-7.72 7.72c-.78.78-.78 2.05 0 2.83L4 21.41c.39.39.9.59 1.41.59.51 0 1.02-.2 1.41-.59l7.78-7.78 2.81-2.81c.8-.78.8-2.07 0-2.86zM5.41 20L4 18.59l7.72-7.72 1.47 1.35L5.41 20z\"/>\n",
              "  </svg>\n",
              "      </button>\n",
              "      \n",
              "  <style>\n",
              "    .colab-df-container {\n",
              "      display:flex;\n",
              "      flex-wrap:wrap;\n",
              "      gap: 12px;\n",
              "    }\n",
              "\n",
              "    .colab-df-convert {\n",
              "      background-color: #E8F0FE;\n",
              "      border: none;\n",
              "      border-radius: 50%;\n",
              "      cursor: pointer;\n",
              "      display: none;\n",
              "      fill: #1967D2;\n",
              "      height: 32px;\n",
              "      padding: 0 0 0 0;\n",
              "      width: 32px;\n",
              "    }\n",
              "\n",
              "    .colab-df-convert:hover {\n",
              "      background-color: #E2EBFA;\n",
              "      box-shadow: 0px 1px 2px rgba(60, 64, 67, 0.3), 0px 1px 3px 1px rgba(60, 64, 67, 0.15);\n",
              "      fill: #174EA6;\n",
              "    }\n",
              "\n",
              "    [theme=dark] .colab-df-convert {\n",
              "      background-color: #3B4455;\n",
              "      fill: #D2E3FC;\n",
              "    }\n",
              "\n",
              "    [theme=dark] .colab-df-convert:hover {\n",
              "      background-color: #434B5C;\n",
              "      box-shadow: 0px 1px 3px 1px rgba(0, 0, 0, 0.15);\n",
              "      filter: drop-shadow(0px 1px 2px rgba(0, 0, 0, 0.3));\n",
              "      fill: #FFFFFF;\n",
              "    }\n",
              "  </style>\n",
              "\n",
              "      <script>\n",
              "        const buttonEl =\n",
              "          document.querySelector('#df-661d7a38-96df-4b97-a083-2a8aed153174 button.colab-df-convert');\n",
              "        buttonEl.style.display =\n",
              "          google.colab.kernel.accessAllowed ? 'block' : 'none';\n",
              "\n",
              "        async function convertToInteractive(key) {\n",
              "          const element = document.querySelector('#df-661d7a38-96df-4b97-a083-2a8aed153174');\n",
              "          const dataTable =\n",
              "            await google.colab.kernel.invokeFunction('convertToInteractive',\n",
              "                                                     [key], {});\n",
              "          if (!dataTable) return;\n",
              "\n",
              "          const docLinkHtml = 'Like what you see? Visit the ' +\n",
              "            '<a target=\"_blank\" href=https://colab.research.google.com/notebooks/data_table.ipynb>data table notebook</a>'\n",
              "            + ' to learn more about interactive tables.';\n",
              "          element.innerHTML = '';\n",
              "          dataTable['output_type'] = 'display_data';\n",
              "          await google.colab.output.renderOutput(dataTable, element);\n",
              "          const docLink = document.createElement('div');\n",
              "          docLink.innerHTML = docLinkHtml;\n",
              "          element.appendChild(docLink);\n",
              "        }\n",
              "      </script>\n",
              "    </div>\n",
              "  </div>\n",
              "  "
            ],
            "text/plain": [
              "                    Character  Power_Level Saga_or_Movie Dragon_Ball_Series\n",
              "115  Farmer (without shotgun)          2.0   Saiyan Saga      Dragon Ball Z\n",
              "116     Farmer (with shotgun)          5.0   Saiyan Saga      Dragon Ball Z\n",
              "117                    Raditz       1200.0   Saiyan Saga      Dragon Ball Z\n",
              "118                     Gohan          1.0   Saiyan Saga      Dragon Ball Z\n",
              "119        Piccolo (weighted)        326.0   Saiyan Saga      Dragon Ball Z"
            ]
          },
          "metadata": {},
          "execution_count": 19
        }
      ]
    },
    {
      "cell_type": "code",
      "source": [
        "df_Z=df_Z.reset_index(drop=True)\n",
        "df_Z.head()"
      ],
      "metadata": {
        "colab": {
          "base_uri": "https://localhost:8080/",
          "height": 206
        },
        "id": "NvpLog93NH4X",
        "outputId": "adec38cf-1df4-4e31-c6ec-4d78fa04800a"
      },
      "execution_count": 20,
      "outputs": [
        {
          "output_type": "execute_result",
          "data": {
            "text/html": [
              "\n",
              "  <div id=\"df-39a2c958-fb27-449e-9e42-857968b486d8\">\n",
              "    <div class=\"colab-df-container\">\n",
              "      <div>\n",
              "<style scoped>\n",
              "    .dataframe tbody tr th:only-of-type {\n",
              "        vertical-align: middle;\n",
              "    }\n",
              "\n",
              "    .dataframe tbody tr th {\n",
              "        vertical-align: top;\n",
              "    }\n",
              "\n",
              "    .dataframe thead th {\n",
              "        text-align: right;\n",
              "    }\n",
              "</style>\n",
              "<table border=\"1\" class=\"dataframe\">\n",
              "  <thead>\n",
              "    <tr style=\"text-align: right;\">\n",
              "      <th></th>\n",
              "      <th>Character</th>\n",
              "      <th>Power_Level</th>\n",
              "      <th>Saga_or_Movie</th>\n",
              "      <th>Dragon_Ball_Series</th>\n",
              "    </tr>\n",
              "  </thead>\n",
              "  <tbody>\n",
              "    <tr>\n",
              "      <th>0</th>\n",
              "      <td>Farmer (without shotgun)</td>\n",
              "      <td>2.0</td>\n",
              "      <td>Saiyan Saga</td>\n",
              "      <td>Dragon Ball Z</td>\n",
              "    </tr>\n",
              "    <tr>\n",
              "      <th>1</th>\n",
              "      <td>Farmer (with shotgun)</td>\n",
              "      <td>5.0</td>\n",
              "      <td>Saiyan Saga</td>\n",
              "      <td>Dragon Ball Z</td>\n",
              "    </tr>\n",
              "    <tr>\n",
              "      <th>2</th>\n",
              "      <td>Raditz</td>\n",
              "      <td>1200.0</td>\n",
              "      <td>Saiyan Saga</td>\n",
              "      <td>Dragon Ball Z</td>\n",
              "    </tr>\n",
              "    <tr>\n",
              "      <th>3</th>\n",
              "      <td>Gohan</td>\n",
              "      <td>1.0</td>\n",
              "      <td>Saiyan Saga</td>\n",
              "      <td>Dragon Ball Z</td>\n",
              "    </tr>\n",
              "    <tr>\n",
              "      <th>4</th>\n",
              "      <td>Piccolo (weighted)</td>\n",
              "      <td>326.0</td>\n",
              "      <td>Saiyan Saga</td>\n",
              "      <td>Dragon Ball Z</td>\n",
              "    </tr>\n",
              "  </tbody>\n",
              "</table>\n",
              "</div>\n",
              "      <button class=\"colab-df-convert\" onclick=\"convertToInteractive('df-39a2c958-fb27-449e-9e42-857968b486d8')\"\n",
              "              title=\"Convert this dataframe to an interactive table.\"\n",
              "              style=\"display:none;\">\n",
              "        \n",
              "  <svg xmlns=\"http://www.w3.org/2000/svg\" height=\"24px\"viewBox=\"0 0 24 24\"\n",
              "       width=\"24px\">\n",
              "    <path d=\"M0 0h24v24H0V0z\" fill=\"none\"/>\n",
              "    <path d=\"M18.56 5.44l.94 2.06.94-2.06 2.06-.94-2.06-.94-.94-2.06-.94 2.06-2.06.94zm-11 1L8.5 8.5l.94-2.06 2.06-.94-2.06-.94L8.5 2.5l-.94 2.06-2.06.94zm10 10l.94 2.06.94-2.06 2.06-.94-2.06-.94-.94-2.06-.94 2.06-2.06.94z\"/><path d=\"M17.41 7.96l-1.37-1.37c-.4-.4-.92-.59-1.43-.59-.52 0-1.04.2-1.43.59L10.3 9.45l-7.72 7.72c-.78.78-.78 2.05 0 2.83L4 21.41c.39.39.9.59 1.41.59.51 0 1.02-.2 1.41-.59l7.78-7.78 2.81-2.81c.8-.78.8-2.07 0-2.86zM5.41 20L4 18.59l7.72-7.72 1.47 1.35L5.41 20z\"/>\n",
              "  </svg>\n",
              "      </button>\n",
              "      \n",
              "  <style>\n",
              "    .colab-df-container {\n",
              "      display:flex;\n",
              "      flex-wrap:wrap;\n",
              "      gap: 12px;\n",
              "    }\n",
              "\n",
              "    .colab-df-convert {\n",
              "      background-color: #E8F0FE;\n",
              "      border: none;\n",
              "      border-radius: 50%;\n",
              "      cursor: pointer;\n",
              "      display: none;\n",
              "      fill: #1967D2;\n",
              "      height: 32px;\n",
              "      padding: 0 0 0 0;\n",
              "      width: 32px;\n",
              "    }\n",
              "\n",
              "    .colab-df-convert:hover {\n",
              "      background-color: #E2EBFA;\n",
              "      box-shadow: 0px 1px 2px rgba(60, 64, 67, 0.3), 0px 1px 3px 1px rgba(60, 64, 67, 0.15);\n",
              "      fill: #174EA6;\n",
              "    }\n",
              "\n",
              "    [theme=dark] .colab-df-convert {\n",
              "      background-color: #3B4455;\n",
              "      fill: #D2E3FC;\n",
              "    }\n",
              "\n",
              "    [theme=dark] .colab-df-convert:hover {\n",
              "      background-color: #434B5C;\n",
              "      box-shadow: 0px 1px 3px 1px rgba(0, 0, 0, 0.15);\n",
              "      filter: drop-shadow(0px 1px 2px rgba(0, 0, 0, 0.3));\n",
              "      fill: #FFFFFF;\n",
              "    }\n",
              "  </style>\n",
              "\n",
              "      <script>\n",
              "        const buttonEl =\n",
              "          document.querySelector('#df-39a2c958-fb27-449e-9e42-857968b486d8 button.colab-df-convert');\n",
              "        buttonEl.style.display =\n",
              "          google.colab.kernel.accessAllowed ? 'block' : 'none';\n",
              "\n",
              "        async function convertToInteractive(key) {\n",
              "          const element = document.querySelector('#df-39a2c958-fb27-449e-9e42-857968b486d8');\n",
              "          const dataTable =\n",
              "            await google.colab.kernel.invokeFunction('convertToInteractive',\n",
              "                                                     [key], {});\n",
              "          if (!dataTable) return;\n",
              "\n",
              "          const docLinkHtml = 'Like what you see? Visit the ' +\n",
              "            '<a target=\"_blank\" href=https://colab.research.google.com/notebooks/data_table.ipynb>data table notebook</a>'\n",
              "            + ' to learn more about interactive tables.';\n",
              "          element.innerHTML = '';\n",
              "          dataTable['output_type'] = 'display_data';\n",
              "          await google.colab.output.renderOutput(dataTable, element);\n",
              "          const docLink = document.createElement('div');\n",
              "          docLink.innerHTML = docLinkHtml;\n",
              "          element.appendChild(docLink);\n",
              "        }\n",
              "      </script>\n",
              "    </div>\n",
              "  </div>\n",
              "  "
            ],
            "text/plain": [
              "                  Character  Power_Level Saga_or_Movie Dragon_Ball_Series\n",
              "0  Farmer (without shotgun)          2.0   Saiyan Saga      Dragon Ball Z\n",
              "1     Farmer (with shotgun)          5.0   Saiyan Saga      Dragon Ball Z\n",
              "2                    Raditz       1200.0   Saiyan Saga      Dragon Ball Z\n",
              "3                     Gohan          1.0   Saiyan Saga      Dragon Ball Z\n",
              "4        Piccolo (weighted)        326.0   Saiyan Saga      Dragon Ball Z"
            ]
          },
          "metadata": {},
          "execution_count": 20
        }
      ]
    },
    {
      "cell_type": "markdown",
      "source": [
        "Ahora vamos a ver las Sagas o Peliculas de nuestro Dataframe"
      ],
      "metadata": {
        "id": "E1pxA9wANwJC"
      }
    },
    {
      "cell_type": "code",
      "source": [
        "df_Z.Saga_or_Movie.value_counts(sort=True)"
      ],
      "metadata": {
        "colab": {
          "base_uri": "https://localhost:8080/"
        },
        "id": "PO-KgCpSOEek",
        "outputId": "8f43e782-f46f-46ca-ac59-57f5936837aa"
      },
      "execution_count": 21,
      "outputs": [
        {
          "output_type": "execute_result",
          "data": {
            "text/plain": [
              "Saiyan Saga                                          68\n",
              "Kid Buu Saga                                         50\n",
              "Great Saiyaman Saga/World Tournament Saga            47\n",
              "Cell Games Saga                                      45\n",
              "Frieza Saga                                          44\n",
              "Movie 14: Battle of Gods                             42\n",
              "Fusion Saga                                          41\n",
              "Dragon Ball: Yo! Son Goku and His Friends Return     38\n",
              "Dragon Ball Z: History of Trunks                     33\n",
              "Movie 9: Bojack Unbound                              30\n",
              "Movie 8: Broly - The Legendary Super Saiyan          30\n",
              "Movie 2: World's Strongest                           29\n",
              "Android Saga                                         29\n",
              "Movie 12: Fusion Reborn                              28\n",
              "Dragon Ball Z: Bardock-Father of Goku                26\n",
              "OVA: Plan to Eradicate the Super Saiyans             25\n",
              "Movie 13: Wrath of the Dragon                        23\n",
              "Movie 5: Cooler's Revenge                            21\n",
              "Movie 4: Lord Slug                                   20\n",
              "Trunks Saga                                          20\n",
              "Movie 3: The Tree of Might                           19\n",
              "Namek Saga                                           18\n",
              "Babidi Saga/Majin Buu Saga                           18\n",
              "Perfect Cell Saga                                    18\n",
              "Movie 7: Super Android 13                            18\n",
              "Movie 1: Dead Zone                                   18\n",
              "Ginyu Force Saga                                     16\n",
              "Movie 10: Broly- The Second Coming                   16\n",
              "Movie 6: The Return of Cooler                        15\n",
              "Dragon Ball: Episode of Bardock                      14\n",
              "Captain Ginyu Saga                                   14\n",
              "Movie 11: Bio-Broly                                  13\n",
              "Dragon Ball GT: A Hero's Legacy                      13\n",
              "Goku And Gohan in The Hyperbolic Time Chamber        12\n",
              "Imperfect Cell Saga                                   8\n",
              "Name: Saga_or_Movie, dtype: int64"
            ]
          },
          "metadata": {},
          "execution_count": 21
        }
      ]
    },
    {
      "cell_type": "markdown",
      "source": [
        "Voy a filtrar solamente las sagas que he visto que son las siguientes\n",
        "\n",
        "- Saiyan Saga                                         \n",
        "- Kid Buu Saga                                         \n",
        "- Great Saiyaman Saga/World Tournament Saga            \n",
        "- Cell Games Saga                                      \n",
        "- Frieza Saga                                          \n",
        "- Movie 14: Battle of Gods                             \n",
        "- Fusion Saga                                          \n",
        "- Dragon Ball Z: History of Trunks                     \n",
        "- Android Saga                                         \n",
        "- Trunks Saga                                          \n",
        "- Perfect Cell Saga                                    \n",
        "- Namek Saga                                           \n",
        "- Babidi Saga/Majin Buu Saga                           \n",
        "- Imperfect Cell Saga                                   \n",
        "\n",
        "\n",
        "Ordenadas Cronologicamente\n",
        "--- \n",
        "1. Saiyan Saga\n",
        "2. Namek Saga\n",
        "3. Frieza Saga\n",
        "4. Trunks Saga\n",
        "5. Android Saga\n",
        "6. Dragon Ball Z: History of Trunks\n",
        "7. Imperfect Cell Saga\n",
        "8. Perfect Cell Saga\n",
        "9. Cell Games Saga\n",
        "10. Great Saiyaman Saga/World Tournament Saga\n",
        "11. Babidi Saga/Majin Buu Saga\n",
        "12. Fusion Saga\n",
        "13. Kid Buu Saga\n",
        "14. Movie 14: Battle of Gods\n"
      ],
      "metadata": {
        "id": "LNXMJ-CsO-0I"
      }
    },
    {
      "cell_type": "code",
      "source": [
        "series=['Saiyan Saga','Namek Saga','Frieza Saga','Trunks Saga','Android Saga','Dragon Ball Z: History of Trunks','Imperfect Cell Saga','Perfect Cell Saga','Cell Games Saga','Great Saiyaman Saga/World Tournament Saga','Babidi Saga/Majin Buu Saga','Fusion Saga','Kid Buu Saga','Movie 14: Battle of Gods']"
      ],
      "metadata": {
        "id": "G96bVhqwOEW-"
      },
      "execution_count": 22,
      "outputs": []
    },
    {
      "cell_type": "code",
      "source": [
        "df_Z_filter=df_Z.loc[df_Z.Saga_or_Movie.isin(series)]\n",
        "df_Z_filter.Saga_or_Movie.value_counts(sort=True)"
      ],
      "metadata": {
        "colab": {
          "base_uri": "https://localhost:8080/"
        },
        "id": "EddLfn09OEQk",
        "outputId": "4c99751e-101a-41cf-d0b3-4b47f7ebd0b2"
      },
      "execution_count": 23,
      "outputs": [
        {
          "output_type": "execute_result",
          "data": {
            "text/plain": [
              "Saiyan Saga                                  68\n",
              "Kid Buu Saga                                 50\n",
              "Great Saiyaman Saga/World Tournament Saga    47\n",
              "Cell Games Saga                              45\n",
              "Frieza Saga                                  44\n",
              "Movie 14: Battle of Gods                     42\n",
              "Fusion Saga                                  41\n",
              "Dragon Ball Z: History of Trunks             33\n",
              "Android Saga                                 29\n",
              "Trunks Saga                                  20\n",
              "Namek Saga                                   18\n",
              "Perfect Cell Saga                            18\n",
              "Babidi Saga/Majin Buu Saga                   18\n",
              "Imperfect Cell Saga                           8\n",
              "Name: Saga_or_Movie, dtype: int64"
            ]
          },
          "metadata": {},
          "execution_count": 23
        }
      ]
    },
    {
      "cell_type": "code",
      "source": [
        "df_Z_filter.Saga_or_Movie.unique()"
      ],
      "metadata": {
        "colab": {
          "base_uri": "https://localhost:8080/"
        },
        "id": "6gtw1F8faZLx",
        "outputId": "9ed149e8-1ade-4b64-ab9d-59af3afa480e"
      },
      "execution_count": 24,
      "outputs": [
        {
          "output_type": "execute_result",
          "data": {
            "text/plain": [
              "array(['Saiyan Saga', 'Namek Saga', 'Frieza Saga', 'Trunks Saga',\n",
              "       'Android Saga', 'Imperfect Cell Saga', 'Perfect Cell Saga',\n",
              "       'Cell Games Saga', 'Great Saiyaman Saga/World Tournament Saga',\n",
              "       'Babidi Saga/Majin Buu Saga', 'Fusion Saga', 'Kid Buu Saga',\n",
              "       'Dragon Ball Z: History of Trunks', 'Movie 14: Battle of Gods'],\n",
              "      dtype=object)"
            ]
          },
          "metadata": {},
          "execution_count": 24
        }
      ]
    },
    {
      "cell_type": "markdown",
      "source": [
        "Ya obtuvimos solamente los registros que nos interesaban pero ahora debemos ordenarlos cronologicamente"
      ],
      "metadata": {
        "id": "bcY6q72yllia"
      }
    },
    {
      "cell_type": "code",
      "source": [
        "numeros=[]"
      ],
      "metadata": {
        "id": "fqIP5ACoeBVz"
      },
      "execution_count": 25,
      "outputs": []
    },
    {
      "cell_type": "code",
      "source": [
        "for indice,nombre in enumerate(df_Z_filter.Saga_or_Movie):\n",
        "  numeros.append(series.index(nombre))"
      ],
      "metadata": {
        "id": "zlTGZUCobJ_N"
      },
      "execution_count": 26,
      "outputs": []
    },
    {
      "cell_type": "code",
      "source": [
        "numeros"
      ],
      "metadata": {
        "id": "F3H5edchjJvm"
      },
      "execution_count": null,
      "outputs": []
    },
    {
      "cell_type": "code",
      "source": [
        "df_Z_filter['orden']=numeros[:]"
      ],
      "metadata": {
        "id": "7rXIO_CkjVh1",
        "colab": {
          "base_uri": "https://localhost:8080/"
        },
        "outputId": "e0122096-b9f3-462a-d9a8-cf81b20996dd"
      },
      "execution_count": 28,
      "outputs": [
        {
          "output_type": "stream",
          "name": "stderr",
          "text": [
            "/usr/local/lib/python3.7/dist-packages/ipykernel_launcher.py:1: SettingWithCopyWarning: \n",
            "A value is trying to be set on a copy of a slice from a DataFrame.\n",
            "Try using .loc[row_indexer,col_indexer] = value instead\n",
            "\n",
            "See the caveats in the documentation: https://pandas.pydata.org/pandas-docs/stable/user_guide/indexing.html#returning-a-view-versus-a-copy\n",
            "  \"\"\"Entry point for launching an IPython kernel.\n"
          ]
        }
      ]
    },
    {
      "cell_type": "code",
      "source": [
        "df_Z_filter.head()"
      ],
      "metadata": {
        "colab": {
          "base_uri": "https://localhost:8080/",
          "height": 206
        },
        "id": "_gVxSjK1jmYG",
        "outputId": "d0701d23-2f71-4efa-e7c0-d0b43803918b"
      },
      "execution_count": 29,
      "outputs": [
        {
          "output_type": "execute_result",
          "data": {
            "text/html": [
              "\n",
              "  <div id=\"df-d8a37b1a-9c98-41e6-a629-33110a3e35ab\">\n",
              "    <div class=\"colab-df-container\">\n",
              "      <div>\n",
              "<style scoped>\n",
              "    .dataframe tbody tr th:only-of-type {\n",
              "        vertical-align: middle;\n",
              "    }\n",
              "\n",
              "    .dataframe tbody tr th {\n",
              "        vertical-align: top;\n",
              "    }\n",
              "\n",
              "    .dataframe thead th {\n",
              "        text-align: right;\n",
              "    }\n",
              "</style>\n",
              "<table border=\"1\" class=\"dataframe\">\n",
              "  <thead>\n",
              "    <tr style=\"text-align: right;\">\n",
              "      <th></th>\n",
              "      <th>Character</th>\n",
              "      <th>Power_Level</th>\n",
              "      <th>Saga_or_Movie</th>\n",
              "      <th>Dragon_Ball_Series</th>\n",
              "      <th>orden</th>\n",
              "    </tr>\n",
              "  </thead>\n",
              "  <tbody>\n",
              "    <tr>\n",
              "      <th>0</th>\n",
              "      <td>Farmer (without shotgun)</td>\n",
              "      <td>2.0</td>\n",
              "      <td>Saiyan Saga</td>\n",
              "      <td>Dragon Ball Z</td>\n",
              "      <td>0</td>\n",
              "    </tr>\n",
              "    <tr>\n",
              "      <th>1</th>\n",
              "      <td>Farmer (with shotgun)</td>\n",
              "      <td>5.0</td>\n",
              "      <td>Saiyan Saga</td>\n",
              "      <td>Dragon Ball Z</td>\n",
              "      <td>0</td>\n",
              "    </tr>\n",
              "    <tr>\n",
              "      <th>2</th>\n",
              "      <td>Raditz</td>\n",
              "      <td>1200.0</td>\n",
              "      <td>Saiyan Saga</td>\n",
              "      <td>Dragon Ball Z</td>\n",
              "      <td>0</td>\n",
              "    </tr>\n",
              "    <tr>\n",
              "      <th>3</th>\n",
              "      <td>Gohan</td>\n",
              "      <td>1.0</td>\n",
              "      <td>Saiyan Saga</td>\n",
              "      <td>Dragon Ball Z</td>\n",
              "      <td>0</td>\n",
              "    </tr>\n",
              "    <tr>\n",
              "      <th>4</th>\n",
              "      <td>Piccolo (weighted)</td>\n",
              "      <td>326.0</td>\n",
              "      <td>Saiyan Saga</td>\n",
              "      <td>Dragon Ball Z</td>\n",
              "      <td>0</td>\n",
              "    </tr>\n",
              "  </tbody>\n",
              "</table>\n",
              "</div>\n",
              "      <button class=\"colab-df-convert\" onclick=\"convertToInteractive('df-d8a37b1a-9c98-41e6-a629-33110a3e35ab')\"\n",
              "              title=\"Convert this dataframe to an interactive table.\"\n",
              "              style=\"display:none;\">\n",
              "        \n",
              "  <svg xmlns=\"http://www.w3.org/2000/svg\" height=\"24px\"viewBox=\"0 0 24 24\"\n",
              "       width=\"24px\">\n",
              "    <path d=\"M0 0h24v24H0V0z\" fill=\"none\"/>\n",
              "    <path d=\"M18.56 5.44l.94 2.06.94-2.06 2.06-.94-2.06-.94-.94-2.06-.94 2.06-2.06.94zm-11 1L8.5 8.5l.94-2.06 2.06-.94-2.06-.94L8.5 2.5l-.94 2.06-2.06.94zm10 10l.94 2.06.94-2.06 2.06-.94-2.06-.94-.94-2.06-.94 2.06-2.06.94z\"/><path d=\"M17.41 7.96l-1.37-1.37c-.4-.4-.92-.59-1.43-.59-.52 0-1.04.2-1.43.59L10.3 9.45l-7.72 7.72c-.78.78-.78 2.05 0 2.83L4 21.41c.39.39.9.59 1.41.59.51 0 1.02-.2 1.41-.59l7.78-7.78 2.81-2.81c.8-.78.8-2.07 0-2.86zM5.41 20L4 18.59l7.72-7.72 1.47 1.35L5.41 20z\"/>\n",
              "  </svg>\n",
              "      </button>\n",
              "      \n",
              "  <style>\n",
              "    .colab-df-container {\n",
              "      display:flex;\n",
              "      flex-wrap:wrap;\n",
              "      gap: 12px;\n",
              "    }\n",
              "\n",
              "    .colab-df-convert {\n",
              "      background-color: #E8F0FE;\n",
              "      border: none;\n",
              "      border-radius: 50%;\n",
              "      cursor: pointer;\n",
              "      display: none;\n",
              "      fill: #1967D2;\n",
              "      height: 32px;\n",
              "      padding: 0 0 0 0;\n",
              "      width: 32px;\n",
              "    }\n",
              "\n",
              "    .colab-df-convert:hover {\n",
              "      background-color: #E2EBFA;\n",
              "      box-shadow: 0px 1px 2px rgba(60, 64, 67, 0.3), 0px 1px 3px 1px rgba(60, 64, 67, 0.15);\n",
              "      fill: #174EA6;\n",
              "    }\n",
              "\n",
              "    [theme=dark] .colab-df-convert {\n",
              "      background-color: #3B4455;\n",
              "      fill: #D2E3FC;\n",
              "    }\n",
              "\n",
              "    [theme=dark] .colab-df-convert:hover {\n",
              "      background-color: #434B5C;\n",
              "      box-shadow: 0px 1px 3px 1px rgba(0, 0, 0, 0.15);\n",
              "      filter: drop-shadow(0px 1px 2px rgba(0, 0, 0, 0.3));\n",
              "      fill: #FFFFFF;\n",
              "    }\n",
              "  </style>\n",
              "\n",
              "      <script>\n",
              "        const buttonEl =\n",
              "          document.querySelector('#df-d8a37b1a-9c98-41e6-a629-33110a3e35ab button.colab-df-convert');\n",
              "        buttonEl.style.display =\n",
              "          google.colab.kernel.accessAllowed ? 'block' : 'none';\n",
              "\n",
              "        async function convertToInteractive(key) {\n",
              "          const element = document.querySelector('#df-d8a37b1a-9c98-41e6-a629-33110a3e35ab');\n",
              "          const dataTable =\n",
              "            await google.colab.kernel.invokeFunction('convertToInteractive',\n",
              "                                                     [key], {});\n",
              "          if (!dataTable) return;\n",
              "\n",
              "          const docLinkHtml = 'Like what you see? Visit the ' +\n",
              "            '<a target=\"_blank\" href=https://colab.research.google.com/notebooks/data_table.ipynb>data table notebook</a>'\n",
              "            + ' to learn more about interactive tables.';\n",
              "          element.innerHTML = '';\n",
              "          dataTable['output_type'] = 'display_data';\n",
              "          await google.colab.output.renderOutput(dataTable, element);\n",
              "          const docLink = document.createElement('div');\n",
              "          docLink.innerHTML = docLinkHtml;\n",
              "          element.appendChild(docLink);\n",
              "        }\n",
              "      </script>\n",
              "    </div>\n",
              "  </div>\n",
              "  "
            ],
            "text/plain": [
              "                  Character  Power_Level  ... Dragon_Ball_Series orden\n",
              "0  Farmer (without shotgun)          2.0  ...      Dragon Ball Z     0\n",
              "1     Farmer (with shotgun)          5.0  ...      Dragon Ball Z     0\n",
              "2                    Raditz       1200.0  ...      Dragon Ball Z     0\n",
              "3                     Gohan          1.0  ...      Dragon Ball Z     0\n",
              "4        Piccolo (weighted)        326.0  ...      Dragon Ball Z     0\n",
              "\n",
              "[5 rows x 5 columns]"
            ]
          },
          "metadata": {},
          "execution_count": 29
        }
      ]
    },
    {
      "cell_type": "code",
      "source": [
        "df_Z_ordered=df_Z_filter.sort_values('orden').reset_index(drop=True)"
      ],
      "metadata": {
        "id": "P_r_4ha4jrw5"
      },
      "execution_count": 31,
      "outputs": []
    },
    {
      "cell_type": "code",
      "source": [
        "df_Z_ordered.info()"
      ],
      "metadata": {
        "colab": {
          "base_uri": "https://localhost:8080/"
        },
        "id": "lY-7MHlzjzyc",
        "outputId": "c089f9e4-f8b9-4e93-d9ed-c41d7117b38f"
      },
      "execution_count": 32,
      "outputs": [
        {
          "output_type": "stream",
          "name": "stdout",
          "text": [
            "<class 'pandas.core.frame.DataFrame'>\n",
            "RangeIndex: 481 entries, 0 to 480\n",
            "Data columns (total 5 columns):\n",
            " #   Column              Non-Null Count  Dtype  \n",
            "---  ------              --------------  -----  \n",
            " 0   Character           481 non-null    object \n",
            " 1   Power_Level         481 non-null    float64\n",
            " 2   Saga_or_Movie       481 non-null    object \n",
            " 3   Dragon_Ball_Series  481 non-null    object \n",
            " 4   orden               481 non-null    int64  \n",
            "dtypes: float64(1), int64(1), object(3)\n",
            "memory usage: 18.9+ KB\n"
          ]
        }
      ]
    },
    {
      "cell_type": "code",
      "source": [
        "df_Z_ordered.tail()"
      ],
      "metadata": {
        "id": "LOhpQFgYlDxs",
        "colab": {
          "base_uri": "https://localhost:8080/",
          "height": 206
        },
        "outputId": "5de5bee6-9d04-4576-c5c2-d4e42c97908c"
      },
      "execution_count": 34,
      "outputs": [
        {
          "output_type": "execute_result",
          "data": {
            "text/html": [
              "\n",
              "  <div id=\"df-4043ca23-85ee-4b37-b22d-b313c8f2e077\">\n",
              "    <div class=\"colab-df-container\">\n",
              "      <div>\n",
              "<style scoped>\n",
              "    .dataframe tbody tr th:only-of-type {\n",
              "        vertical-align: middle;\n",
              "    }\n",
              "\n",
              "    .dataframe tbody tr th {\n",
              "        vertical-align: top;\n",
              "    }\n",
              "\n",
              "    .dataframe thead th {\n",
              "        text-align: right;\n",
              "    }\n",
              "</style>\n",
              "<table border=\"1\" class=\"dataframe\">\n",
              "  <thead>\n",
              "    <tr style=\"text-align: right;\">\n",
              "      <th></th>\n",
              "      <th>Character</th>\n",
              "      <th>Power_Level</th>\n",
              "      <th>Saga_or_Movie</th>\n",
              "      <th>Dragon_Ball_Series</th>\n",
              "      <th>orden</th>\n",
              "    </tr>\n",
              "  </thead>\n",
              "  <tbody>\n",
              "    <tr>\n",
              "      <th>476</th>\n",
              "      <td>Yamcha</td>\n",
              "      <td>2.000000e+06</td>\n",
              "      <td>Movie 14: Battle of Gods</td>\n",
              "      <td>Dragon Ball Z</td>\n",
              "      <td>13</td>\n",
              "    </tr>\n",
              "    <tr>\n",
              "      <th>477</th>\n",
              "      <td>Tien</td>\n",
              "      <td>5.000000e+06</td>\n",
              "      <td>Movie 14: Battle of Gods</td>\n",
              "      <td>Dragon Ball Z</td>\n",
              "      <td>13</td>\n",
              "    </tr>\n",
              "    <tr>\n",
              "      <th>478</th>\n",
              "      <td>Trunks</td>\n",
              "      <td>8.000000e+06</td>\n",
              "      <td>Movie 14: Battle of Gods</td>\n",
              "      <td>Dragon Ball Z</td>\n",
              "      <td>13</td>\n",
              "    </tr>\n",
              "    <tr>\n",
              "      <th>479</th>\n",
              "      <td>Goku (SSJ2)</td>\n",
              "      <td>1.120000e+12</td>\n",
              "      <td>Movie 14: Battle of Gods</td>\n",
              "      <td>Dragon Ball Z</td>\n",
              "      <td>13</td>\n",
              "    </tr>\n",
              "    <tr>\n",
              "      <th>480</th>\n",
              "      <td>Whis (full power, never shown)</td>\n",
              "      <td>4.480000e+15</td>\n",
              "      <td>Movie 14: Battle of Gods</td>\n",
              "      <td>Dragon Ball Z</td>\n",
              "      <td>13</td>\n",
              "    </tr>\n",
              "  </tbody>\n",
              "</table>\n",
              "</div>\n",
              "      <button class=\"colab-df-convert\" onclick=\"convertToInteractive('df-4043ca23-85ee-4b37-b22d-b313c8f2e077')\"\n",
              "              title=\"Convert this dataframe to an interactive table.\"\n",
              "              style=\"display:none;\">\n",
              "        \n",
              "  <svg xmlns=\"http://www.w3.org/2000/svg\" height=\"24px\"viewBox=\"0 0 24 24\"\n",
              "       width=\"24px\">\n",
              "    <path d=\"M0 0h24v24H0V0z\" fill=\"none\"/>\n",
              "    <path d=\"M18.56 5.44l.94 2.06.94-2.06 2.06-.94-2.06-.94-.94-2.06-.94 2.06-2.06.94zm-11 1L8.5 8.5l.94-2.06 2.06-.94-2.06-.94L8.5 2.5l-.94 2.06-2.06.94zm10 10l.94 2.06.94-2.06 2.06-.94-2.06-.94-.94-2.06-.94 2.06-2.06.94z\"/><path d=\"M17.41 7.96l-1.37-1.37c-.4-.4-.92-.59-1.43-.59-.52 0-1.04.2-1.43.59L10.3 9.45l-7.72 7.72c-.78.78-.78 2.05 0 2.83L4 21.41c.39.39.9.59 1.41.59.51 0 1.02-.2 1.41-.59l7.78-7.78 2.81-2.81c.8-.78.8-2.07 0-2.86zM5.41 20L4 18.59l7.72-7.72 1.47 1.35L5.41 20z\"/>\n",
              "  </svg>\n",
              "      </button>\n",
              "      \n",
              "  <style>\n",
              "    .colab-df-container {\n",
              "      display:flex;\n",
              "      flex-wrap:wrap;\n",
              "      gap: 12px;\n",
              "    }\n",
              "\n",
              "    .colab-df-convert {\n",
              "      background-color: #E8F0FE;\n",
              "      border: none;\n",
              "      border-radius: 50%;\n",
              "      cursor: pointer;\n",
              "      display: none;\n",
              "      fill: #1967D2;\n",
              "      height: 32px;\n",
              "      padding: 0 0 0 0;\n",
              "      width: 32px;\n",
              "    }\n",
              "\n",
              "    .colab-df-convert:hover {\n",
              "      background-color: #E2EBFA;\n",
              "      box-shadow: 0px 1px 2px rgba(60, 64, 67, 0.3), 0px 1px 3px 1px rgba(60, 64, 67, 0.15);\n",
              "      fill: #174EA6;\n",
              "    }\n",
              "\n",
              "    [theme=dark] .colab-df-convert {\n",
              "      background-color: #3B4455;\n",
              "      fill: #D2E3FC;\n",
              "    }\n",
              "\n",
              "    [theme=dark] .colab-df-convert:hover {\n",
              "      background-color: #434B5C;\n",
              "      box-shadow: 0px 1px 3px 1px rgba(0, 0, 0, 0.15);\n",
              "      filter: drop-shadow(0px 1px 2px rgba(0, 0, 0, 0.3));\n",
              "      fill: #FFFFFF;\n",
              "    }\n",
              "  </style>\n",
              "\n",
              "      <script>\n",
              "        const buttonEl =\n",
              "          document.querySelector('#df-4043ca23-85ee-4b37-b22d-b313c8f2e077 button.colab-df-convert');\n",
              "        buttonEl.style.display =\n",
              "          google.colab.kernel.accessAllowed ? 'block' : 'none';\n",
              "\n",
              "        async function convertToInteractive(key) {\n",
              "          const element = document.querySelector('#df-4043ca23-85ee-4b37-b22d-b313c8f2e077');\n",
              "          const dataTable =\n",
              "            await google.colab.kernel.invokeFunction('convertToInteractive',\n",
              "                                                     [key], {});\n",
              "          if (!dataTable) return;\n",
              "\n",
              "          const docLinkHtml = 'Like what you see? Visit the ' +\n",
              "            '<a target=\"_blank\" href=https://colab.research.google.com/notebooks/data_table.ipynb>data table notebook</a>'\n",
              "            + ' to learn more about interactive tables.';\n",
              "          element.innerHTML = '';\n",
              "          dataTable['output_type'] = 'display_data';\n",
              "          await google.colab.output.renderOutput(dataTable, element);\n",
              "          const docLink = document.createElement('div');\n",
              "          docLink.innerHTML = docLinkHtml;\n",
              "          element.appendChild(docLink);\n",
              "        }\n",
              "      </script>\n",
              "    </div>\n",
              "  </div>\n",
              "  "
            ],
            "text/plain": [
              "                          Character   Power_Level  ... Dragon_Ball_Series orden\n",
              "476                          Yamcha  2.000000e+06  ...      Dragon Ball Z    13\n",
              "477                            Tien  5.000000e+06  ...      Dragon Ball Z    13\n",
              "478                          Trunks  8.000000e+06  ...      Dragon Ball Z    13\n",
              "479                     Goku (SSJ2)  1.120000e+12  ...      Dragon Ball Z    13\n",
              "480  Whis (full power, never shown)  4.480000e+15  ...      Dragon Ball Z    13\n",
              "\n",
              "[5 rows x 5 columns]"
            ]
          },
          "metadata": {},
          "execution_count": 34
        }
      ]
    },
    {
      "cell_type": "markdown",
      "source": [
        "Ahora ya tenemos ordenado cronologicamente nuestro Dataset ahora vamos a visualizar el numero de personajes por cada Saga"
      ],
      "metadata": {
        "id": "zayS8LJ-m1O5"
      }
    },
    {
      "cell_type": "code",
      "source": [
        "colores=['red','blue','pink','yellow','green','black','gray','purple','brown','red','blue','pink','yellow','green']"
      ],
      "metadata": {
        "id": "PGk5w5NleAat"
      },
      "execution_count": 50,
      "outputs": []
    },
    {
      "cell_type": "code",
      "source": [
        "df_Z_ordered.isna().any()"
      ],
      "metadata": {
        "colab": {
          "base_uri": "https://localhost:8080/"
        },
        "id": "u0fV2DvemJYe",
        "outputId": "92948510-ff40-4ee1-e141-13f0bccadd57"
      },
      "execution_count": 53,
      "outputs": [
        {
          "output_type": "execute_result",
          "data": {
            "text/plain": [
              "Character             False\n",
              "Power_Level           False\n",
              "Saga_or_Movie         False\n",
              "Dragon_Ball_Series    False\n",
              "orden                 False\n",
              "dtype: bool"
            ]
          },
          "metadata": {},
          "execution_count": 53
        }
      ]
    },
    {
      "cell_type": "code",
      "source": [
        "df_Z_ordered.Saga_or_Movie.value_counts().plot(kind='bar',title='Numero de personajes por Saga',color=colores)\n",
        "plt.show()"
      ],
      "metadata": {
        "colab": {
          "base_uri": "https://localhost:8080/",
          "height": 502
        },
        "id": "xnGPHH2sYvmz",
        "outputId": "494a5df9-49f8-4135-ae5c-0507eeabdd0a"
      },
      "execution_count": 51,
      "outputs": [
        {
          "output_type": "display_data",
          "data": {
            "image/png": "[encoded data removed]",
            "text/plain": [
              "<Figure size 432x288 with 1 Axes>"
            ]
          },
          "metadata": {
            "needs_background": "light"
          }
        }
      ]
    },
    {
      "cell_type": "code",
      "source": [
        "df_Z_ordered.pd_sa"
      ],
      "metadata": {
        "id": "1IhymU0yuDZB"
      },
      "execution_count": null,
      "outputs": []
    },
    {
      "cell_type": "code",
      "source": [
        "plt.plot(kind)"
      ],
      "metadata": {
        "id": "mlIutll6Z_tP"
      },
      "execution_count": null,
      "outputs": []
    },
    {
      "cell_type": "markdown",
      "source": [
        "Vamos a filtrar a Goku"
      ],
      "metadata": {
        "id": "iQUC4DTUX-xV"
      }
    },
    {
      "cell_type": "code",
      "source": [
        "goku=[]"
      ],
      "metadata": {
        "id": "bh1NyOtsoii9"
      },
      "execution_count": null,
      "outputs": []
    },
    {
      "cell_type": "code",
      "source": [
        "for indice, nombre in enumerate(df_Z_ordered.Character):\n",
        "  if str(nombre).find('Goku') != -1:\n",
        "    goku.append(indice)"
      ],
      "metadata": {
        "id": "KWHM7YIkoMQK"
      },
      "execution_count": null,
      "outputs": []
    },
    {
      "cell_type": "code",
      "source": [
        "df_goku=df_Z_ordered.iloc[goku]\n",
        "df_goku.tail()"
      ],
      "metadata": {
        "id": "OpnGj-y-pCYv"
      },
      "execution_count": null,
      "outputs": []
    },
    {
      "cell_type": "code",
      "source": [
        "df_goku.sort_values('Power_Level',ascending=False)"
      ],
      "metadata": {
        "id": "0AXM2DdrqDc5"
      },
      "execution_count": null,
      "outputs": []
    },
    {
      "cell_type": "code",
      "source": [
        "plt.scatter(df_goku.Power_Level,df_goku.orden)\n",
        "plt.show()"
      ],
      "metadata": {
        "id": "R9D2GAjjpb6u"
      },
      "execution_count": null,
      "outputs": []
    },
    {
      "cell_type": "markdown",
      "source": [
        "Se puede observar que el poder que alcanzó Goku en la pelicula de la batalla de los dioses es demasiado alto comparado con el que obtuvo en la saga por lo tanto voy a eliminar tambien la batalla de los dioses"
      ],
      "metadata": {
        "id": "K97GrTBuqyTd"
      }
    },
    {
      "cell_type": "code",
      "source": [
        "df_goku=df_goku.loc[df_goku.Saga_or_Movie != 'Movie 14: Battle of Gods']"
      ],
      "metadata": {
        "id": "-YVL6iuBrZ-G"
      },
      "execution_count": null,
      "outputs": []
    },
    {
      "cell_type": "code",
      "source": [
        "plt.scatter(df_goku.Power_Level,df_goku.orden)\n",
        "plt.show()"
      ],
      "metadata": {
        "id": "7jDYyKrhsVb5"
      },
      "execution_count": null,
      "outputs": []
    },
    {
      "cell_type": "code",
      "source": [
        "df_goku.sort_values('Power_Level',ascending=False)"
      ],
      "metadata": {
        "id": "cky9MX7YsdwC"
      },
      "execution_count": null,
      "outputs": []
    },
    {
      "cell_type": "markdown",
      "source": [
        "Saiyan Saga"
      ],
      "metadata": {
        "id": "CWApBvcYCNxH"
      }
    },
    {
      "cell_type": "code",
      "source": [
        "Saiyan_Saga=df_Z.loc[df_Z.Saga_or_Movie == 'Saiyan Saga']"
      ],
      "metadata": {
        "id": "FfOO9IFwZiJG"
      },
      "execution_count": null,
      "outputs": []
    },
    {
      "cell_type": "code",
      "source": [
        "Saiyan_Saga"
      ],
      "metadata": {
        "id": "qQHTrIQSA4nG"
      },
      "execution_count": null,
      "outputs": []
    },
    {
      "cell_type": "code",
      "source": [
        "Saiyan_Saga.reset_index(inplace=True, drop=True)"
      ],
      "metadata": {
        "id": "1jTumxL0dA7o"
      },
      "execution_count": null,
      "outputs": []
    },
    {
      "cell_type": "code",
      "source": [
        "Saiyan_Saga"
      ],
      "metadata": {
        "id": "5Z2hRDV3CChA"
      },
      "execution_count": null,
      "outputs": []
    },
    {
      "cell_type": "code",
      "source": [
        "Saiyan_Saga.sort_values('Power_Level', ascending=False).head(50)"
      ],
      "metadata": {
        "id": "ELoQllAXCs0u"
      },
      "execution_count": null,
      "outputs": []
    },
    {
      "cell_type": "code",
      "source": [
        "Saiyan_Saga.loc[Saiyan_Saga.Character == 'Yajirobe']"
      ],
      "metadata": {
        "id": "EIEE90hODb9q"
      },
      "execution_count": null,
      "outputs": []
    },
    {
      "cell_type": "code",
      "source": [
        "plt.hist(Saiyan_Saga.Power_Level, bins=10)\n",
        "plt.show()"
      ],
      "metadata": {
        "id": "Za3JYHuDZ5Os"
      },
      "execution_count": null,
      "outputs": []
    }
  ],
  "metadata": {
    "colab": {
      "name": "Dragon_Ball_Data-Set.ipynb",
      "provenance": [],
      "collapsed_sections": [],
      "authorship_tag": "ABX9TyM69ou9ViTHSzLleOnrQT4p",
      "include_colab_link": true
    },
    "kernelspec": {
      "display_name": "Python 3",
      "name": "python3"
    },
    "language_info": {
      "name": "python"
    }
  },
  "nbformat": 4,
  "nbformat_minor": 0
}